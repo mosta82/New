{
  "cells": [
    {
      "cell_type": "markdown",
      "metadata": {
        "id": "view-in-github",
        "colab_type": "text"
      },
      "source": [
        "<a href=\"https://colab.research.google.com/github/mosta82/New/blob/master/Cust_Purch_Data_Exercise_.ipynb\" target=\"_parent\"><img src=\"https://colab.research.google.com/assets/colab-badge.svg\" alt=\"Open In Colab\"/></a>"
      ]
    },
    {
      "cell_type": "markdown",
      "metadata": {
        "id": "7U7JTRogAWBQ"
      },
      "source": [
        "# Ecommerce Purchases Exercise Overview\n",
        "\n",
        "Hi Guys,<br>\n",
        "After a crash course on pandas for data analysis, its time to do some practice!!!<br>\n",
        "Because of privacy issues, I have created a fake dataset here with 30K entries. <br>\n",
        "The situation is, customers are providing some personal information while purchasing stuff on-line or in-store. For some reasons, your client wants to know the answer to some of his questions from the dataset, let's try to help him!.<br>\n",
        "\n",
        "*Feel free to consult the solutions if needed. Please note, the tasks given in the exercises, can be solved in different ways. Try your best answer and compare with the solutions.* <br>\n",
        "&#9758; The dataset is provided in the course downloads."
      ]
    },
    {
      "cell_type": "code",
      "execution_count": 1,
      "metadata": {
        "collapsed": true,
        "id": "CUVxP95sAWBX"
      },
      "outputs": [],
      "source": [
        "import pandas as pd\n"
      ]
    },
    {
      "cell_type": "code",
      "source": [
        "ecom = pd.read_csv('Cust_Purch_FakeData.csv')"
      ],
      "metadata": {
        "id": "qFRx1b_yCFnJ"
      },
      "execution_count": 2,
      "outputs": []
    },
    {
      "cell_type": "markdown",
      "metadata": {
        "id": "5DDG1atEAWBY"
      },
      "source": [
        "**2. Its good idea to see how the data look like, display first 5 rows of your data-set.**"
      ]
    },
    {
      "cell_type": "code",
      "execution_count": 3,
      "metadata": {
        "collapsed": true,
        "colab": {
          "base_uri": "https://localhost:8080/",
          "height": 443
        },
        "id": "tctwRW3aAWBZ",
        "outputId": "58633a4a-6b80-4269-dcd7-d0428b95fbc1"
      },
      "outputs": [
        {
          "output_type": "execute_result",
          "data": {
            "text/plain": [
              "  prefix    first       last              email  gender  age  \\\n",
              "0    Dr.      Ray     Morton    sebvajom@kol.km    Male   38   \n",
              "1   Miss  Claudia  Rodriquez      acu@jatsot.ug  Female   51   \n",
              "2   Miss    Harry      Meyer          zuz@lo.wf  Female   51   \n",
              "3   Miss    Edith    Gilbert  hansohsi@jupec.md  Female   55   \n",
              "4    Dr.     Lura     Murphy     webediti@je.st  Female   20   \n",
              "\n",
              "                        company              profession           phone  \\\n",
              "0                Medtronic Inc.        Health Therapist  (987) 619-2695   \n",
              "1  Ames Department Stores, Inc.        Health Therapist  (356) 736-7352   \n",
              "2                     CSX Corp.     Political Scientist  (539) 246-1806   \n",
              "3        Murphy Oil Corporation  Transportation Manager  (984) 962-7494   \n",
              "4                  PETsMART Inc            Statistician  (902) 568-9748   \n",
              "\n",
              "    postal province             cc_no   cc_exp                    cc_type  \\\n",
              "0  B6V 3W3       MB  5020000000000230  05/2018                       Solo   \n",
              "1  G7M 5F3       SK  5020000000000230  07/2028                       Visa   \n",
              "2  A0Z 6P9       NS  6300000000000000  02/2023                     Switch   \n",
              "3  P9I 9H3       YT  3530000000000000  02/2028                    Maestro   \n",
              "4  S1A 6K0       ON  4030000000000000  10/2025  Diners Club International   \n",
              "\n",
              "   price(CAD) fav_color              ip    weekday ampm        date  \n",
              "0        8.36      Blue    126.23.139.2     Sunday   pm  04/05/1930  \n",
              "1       68.31     Black  106.198.76.211    Tuesday   am  12/20/1926  \n",
              "2       34.65     Black  186.150.187.29  Wednesday   pm  08/20/1931  \n",
              "3       64.59     White   80.140.57.161   Saturday   am  06/18/2001  \n",
              "4       20.83    Yellow   211.103.43.41     Friday   pm  06/14/2045  "
            ],
            "text/html": [
              "\n",
              "  <div id=\"df-74d0f211-6291-4aa3-9cfd-e36d2a8ee591\">\n",
              "    <div class=\"colab-df-container\">\n",
              "      <div>\n",
              "<style scoped>\n",
              "    .dataframe tbody tr th:only-of-type {\n",
              "        vertical-align: middle;\n",
              "    }\n",
              "\n",
              "    .dataframe tbody tr th {\n",
              "        vertical-align: top;\n",
              "    }\n",
              "\n",
              "    .dataframe thead th {\n",
              "        text-align: right;\n",
              "    }\n",
              "</style>\n",
              "<table border=\"1\" class=\"dataframe\">\n",
              "  <thead>\n",
              "    <tr style=\"text-align: right;\">\n",
              "      <th></th>\n",
              "      <th>prefix</th>\n",
              "      <th>first</th>\n",
              "      <th>last</th>\n",
              "      <th>email</th>\n",
              "      <th>gender</th>\n",
              "      <th>age</th>\n",
              "      <th>company</th>\n",
              "      <th>profession</th>\n",
              "      <th>phone</th>\n",
              "      <th>postal</th>\n",
              "      <th>province</th>\n",
              "      <th>cc_no</th>\n",
              "      <th>cc_exp</th>\n",
              "      <th>cc_type</th>\n",
              "      <th>price(CAD)</th>\n",
              "      <th>fav_color</th>\n",
              "      <th>ip</th>\n",
              "      <th>weekday</th>\n",
              "      <th>ampm</th>\n",
              "      <th>date</th>\n",
              "    </tr>\n",
              "  </thead>\n",
              "  <tbody>\n",
              "    <tr>\n",
              "      <th>0</th>\n",
              "      <td>Dr.</td>\n",
              "      <td>Ray</td>\n",
              "      <td>Morton</td>\n",
              "      <td>sebvajom@kol.km</td>\n",
              "      <td>Male</td>\n",
              "      <td>38</td>\n",
              "      <td>Medtronic Inc.</td>\n",
              "      <td>Health Therapist</td>\n",
              "      <td>(987) 619-2695</td>\n",
              "      <td>B6V 3W3</td>\n",
              "      <td>MB</td>\n",
              "      <td>5020000000000230</td>\n",
              "      <td>05/2018</td>\n",
              "      <td>Solo</td>\n",
              "      <td>8.36</td>\n",
              "      <td>Blue</td>\n",
              "      <td>126.23.139.2</td>\n",
              "      <td>Sunday</td>\n",
              "      <td>pm</td>\n",
              "      <td>04/05/1930</td>\n",
              "    </tr>\n",
              "    <tr>\n",
              "      <th>1</th>\n",
              "      <td>Miss</td>\n",
              "      <td>Claudia</td>\n",
              "      <td>Rodriquez</td>\n",
              "      <td>acu@jatsot.ug</td>\n",
              "      <td>Female</td>\n",
              "      <td>51</td>\n",
              "      <td>Ames Department Stores, Inc.</td>\n",
              "      <td>Health Therapist</td>\n",
              "      <td>(356) 736-7352</td>\n",
              "      <td>G7M 5F3</td>\n",
              "      <td>SK</td>\n",
              "      <td>5020000000000230</td>\n",
              "      <td>07/2028</td>\n",
              "      <td>Visa</td>\n",
              "      <td>68.31</td>\n",
              "      <td>Black</td>\n",
              "      <td>106.198.76.211</td>\n",
              "      <td>Tuesday</td>\n",
              "      <td>am</td>\n",
              "      <td>12/20/1926</td>\n",
              "    </tr>\n",
              "    <tr>\n",
              "      <th>2</th>\n",
              "      <td>Miss</td>\n",
              "      <td>Harry</td>\n",
              "      <td>Meyer</td>\n",
              "      <td>zuz@lo.wf</td>\n",
              "      <td>Female</td>\n",
              "      <td>51</td>\n",
              "      <td>CSX Corp.</td>\n",
              "      <td>Political Scientist</td>\n",
              "      <td>(539) 246-1806</td>\n",
              "      <td>A0Z 6P9</td>\n",
              "      <td>NS</td>\n",
              "      <td>6300000000000000</td>\n",
              "      <td>02/2023</td>\n",
              "      <td>Switch</td>\n",
              "      <td>34.65</td>\n",
              "      <td>Black</td>\n",
              "      <td>186.150.187.29</td>\n",
              "      <td>Wednesday</td>\n",
              "      <td>pm</td>\n",
              "      <td>08/20/1931</td>\n",
              "    </tr>\n",
              "    <tr>\n",
              "      <th>3</th>\n",
              "      <td>Miss</td>\n",
              "      <td>Edith</td>\n",
              "      <td>Gilbert</td>\n",
              "      <td>hansohsi@jupec.md</td>\n",
              "      <td>Female</td>\n",
              "      <td>55</td>\n",
              "      <td>Murphy Oil Corporation</td>\n",
              "      <td>Transportation Manager</td>\n",
              "      <td>(984) 962-7494</td>\n",
              "      <td>P9I 9H3</td>\n",
              "      <td>YT</td>\n",
              "      <td>3530000000000000</td>\n",
              "      <td>02/2028</td>\n",
              "      <td>Maestro</td>\n",
              "      <td>64.59</td>\n",
              "      <td>White</td>\n",
              "      <td>80.140.57.161</td>\n",
              "      <td>Saturday</td>\n",
              "      <td>am</td>\n",
              "      <td>06/18/2001</td>\n",
              "    </tr>\n",
              "    <tr>\n",
              "      <th>4</th>\n",
              "      <td>Dr.</td>\n",
              "      <td>Lura</td>\n",
              "      <td>Murphy</td>\n",
              "      <td>webediti@je.st</td>\n",
              "      <td>Female</td>\n",
              "      <td>20</td>\n",
              "      <td>PETsMART Inc</td>\n",
              "      <td>Statistician</td>\n",
              "      <td>(902) 568-9748</td>\n",
              "      <td>S1A 6K0</td>\n",
              "      <td>ON</td>\n",
              "      <td>4030000000000000</td>\n",
              "      <td>10/2025</td>\n",
              "      <td>Diners Club International</td>\n",
              "      <td>20.83</td>\n",
              "      <td>Yellow</td>\n",
              "      <td>211.103.43.41</td>\n",
              "      <td>Friday</td>\n",
              "      <td>pm</td>\n",
              "      <td>06/14/2045</td>\n",
              "    </tr>\n",
              "  </tbody>\n",
              "</table>\n",
              "</div>\n",
              "      <button class=\"colab-df-convert\" onclick=\"convertToInteractive('df-74d0f211-6291-4aa3-9cfd-e36d2a8ee591')\"\n",
              "              title=\"Convert this dataframe to an interactive table.\"\n",
              "              style=\"display:none;\">\n",
              "        \n",
              "  <svg xmlns=\"http://www.w3.org/2000/svg\" height=\"24px\"viewBox=\"0 0 24 24\"\n",
              "       width=\"24px\">\n",
              "    <path d=\"M0 0h24v24H0V0z\" fill=\"none\"/>\n",
              "    <path d=\"M18.56 5.44l.94 2.06.94-2.06 2.06-.94-2.06-.94-.94-2.06-.94 2.06-2.06.94zm-11 1L8.5 8.5l.94-2.06 2.06-.94-2.06-.94L8.5 2.5l-.94 2.06-2.06.94zm10 10l.94 2.06.94-2.06 2.06-.94-2.06-.94-.94-2.06-.94 2.06-2.06.94z\"/><path d=\"M17.41 7.96l-1.37-1.37c-.4-.4-.92-.59-1.43-.59-.52 0-1.04.2-1.43.59L10.3 9.45l-7.72 7.72c-.78.78-.78 2.05 0 2.83L4 21.41c.39.39.9.59 1.41.59.51 0 1.02-.2 1.41-.59l7.78-7.78 2.81-2.81c.8-.78.8-2.07 0-2.86zM5.41 20L4 18.59l7.72-7.72 1.47 1.35L5.41 20z\"/>\n",
              "  </svg>\n",
              "      </button>\n",
              "      \n",
              "  <style>\n",
              "    .colab-df-container {\n",
              "      display:flex;\n",
              "      flex-wrap:wrap;\n",
              "      gap: 12px;\n",
              "    }\n",
              "\n",
              "    .colab-df-convert {\n",
              "      background-color: #E8F0FE;\n",
              "      border: none;\n",
              "      border-radius: 50%;\n",
              "      cursor: pointer;\n",
              "      display: none;\n",
              "      fill: #1967D2;\n",
              "      height: 32px;\n",
              "      padding: 0 0 0 0;\n",
              "      width: 32px;\n",
              "    }\n",
              "\n",
              "    .colab-df-convert:hover {\n",
              "      background-color: #E2EBFA;\n",
              "      box-shadow: 0px 1px 2px rgba(60, 64, 67, 0.3), 0px 1px 3px 1px rgba(60, 64, 67, 0.15);\n",
              "      fill: #174EA6;\n",
              "    }\n",
              "\n",
              "    [theme=dark] .colab-df-convert {\n",
              "      background-color: #3B4455;\n",
              "      fill: #D2E3FC;\n",
              "    }\n",
              "\n",
              "    [theme=dark] .colab-df-convert:hover {\n",
              "      background-color: #434B5C;\n",
              "      box-shadow: 0px 1px 3px 1px rgba(0, 0, 0, 0.15);\n",
              "      filter: drop-shadow(0px 1px 2px rgba(0, 0, 0, 0.3));\n",
              "      fill: #FFFFFF;\n",
              "    }\n",
              "  </style>\n",
              "\n",
              "      <script>\n",
              "        const buttonEl =\n",
              "          document.querySelector('#df-74d0f211-6291-4aa3-9cfd-e36d2a8ee591 button.colab-df-convert');\n",
              "        buttonEl.style.display =\n",
              "          google.colab.kernel.accessAllowed ? 'block' : 'none';\n",
              "\n",
              "        async function convertToInteractive(key) {\n",
              "          const element = document.querySelector('#df-74d0f211-6291-4aa3-9cfd-e36d2a8ee591');\n",
              "          const dataTable =\n",
              "            await google.colab.kernel.invokeFunction('convertToInteractive',\n",
              "                                                     [key], {});\n",
              "          if (!dataTable) return;\n",
              "\n",
              "          const docLinkHtml = 'Like what you see? Visit the ' +\n",
              "            '<a target=\"_blank\" href=https://colab.research.google.com/notebooks/data_table.ipynb>data table notebook</a>'\n",
              "            + ' to learn more about interactive tables.';\n",
              "          element.innerHTML = '';\n",
              "          dataTable['output_type'] = 'display_data';\n",
              "          await google.colab.output.renderOutput(dataTable, element);\n",
              "          const docLink = document.createElement('div');\n",
              "          docLink.innerHTML = docLinkHtml;\n",
              "          element.appendChild(docLink);\n",
              "        }\n",
              "      </script>\n",
              "    </div>\n",
              "  </div>\n",
              "  "
            ]
          },
          "metadata": {},
          "execution_count": 3
        }
      ],
      "source": [
        "# Code here please\n",
        "ecom.head()"
      ]
    },
    {
      "cell_type": "code",
      "execution_count": null,
      "metadata": {
        "id": "9VVy11ZUAWBb",
        "outputId": "32cacf64-8314-4961-b354-d5a5ecfcdf4f"
      },
      "outputs": [
        {
          "data": {
            "text/html": [
              "<div>\n",
              "<style>\n",
              "    .dataframe thead tr:only-child th {\n",
              "        text-align: right;\n",
              "    }\n",
              "\n",
              "    .dataframe thead th {\n",
              "        text-align: left;\n",
              "    }\n",
              "\n",
              "    .dataframe tbody tr th {\n",
              "        vertical-align: top;\n",
              "    }\n",
              "</style>\n",
              "<table border=\"1\" class=\"dataframe\">\n",
              "  <thead>\n",
              "    <tr style=\"text-align: right;\">\n",
              "      <th></th>\n",
              "      <th>prefix</th>\n",
              "      <th>first</th>\n",
              "      <th>last</th>\n",
              "      <th>email</th>\n",
              "      <th>gender</th>\n",
              "      <th>age</th>\n",
              "      <th>company</th>\n",
              "      <th>profession</th>\n",
              "      <th>phone</th>\n",
              "      <th>postal</th>\n",
              "      <th>province</th>\n",
              "      <th>cc_no</th>\n",
              "      <th>cc_exp</th>\n",
              "      <th>cc_type</th>\n",
              "      <th>price(CAD)</th>\n",
              "      <th>fav_color</th>\n",
              "      <th>ip</th>\n",
              "      <th>weekday</th>\n",
              "      <th>ampm</th>\n",
              "      <th>date</th>\n",
              "    </tr>\n",
              "  </thead>\n",
              "  <tbody>\n",
              "    <tr>\n",
              "      <th>0</th>\n",
              "      <td>Dr.</td>\n",
              "      <td>Ray</td>\n",
              "      <td>Morton</td>\n",
              "      <td>sebvajom@kol.km</td>\n",
              "      <td>Male</td>\n",
              "      <td>38</td>\n",
              "      <td>Medtronic Inc.</td>\n",
              "      <td>Health Therapist</td>\n",
              "      <td>(987) 619-2695</td>\n",
              "      <td>B6V 3W3</td>\n",
              "      <td>MB</td>\n",
              "      <td>5020000000000230</td>\n",
              "      <td>05/2018</td>\n",
              "      <td>Solo</td>\n",
              "      <td>8.36</td>\n",
              "      <td>Blue</td>\n",
              "      <td>126.23.139.2</td>\n",
              "      <td>Sunday</td>\n",
              "      <td>pm</td>\n",
              "      <td>04/05/1930</td>\n",
              "    </tr>\n",
              "    <tr>\n",
              "      <th>1</th>\n",
              "      <td>Miss</td>\n",
              "      <td>Claudia</td>\n",
              "      <td>Rodriquez</td>\n",
              "      <td>acu@jatsot.ug</td>\n",
              "      <td>Female</td>\n",
              "      <td>51</td>\n",
              "      <td>Ames Department Stores, Inc.</td>\n",
              "      <td>Health Therapist</td>\n",
              "      <td>(356) 736-7352</td>\n",
              "      <td>G7M 5F3</td>\n",
              "      <td>SK</td>\n",
              "      <td>5020000000000230</td>\n",
              "      <td>07/2028</td>\n",
              "      <td>Visa</td>\n",
              "      <td>68.31</td>\n",
              "      <td>Black</td>\n",
              "      <td>106.198.76.211</td>\n",
              "      <td>Tuesday</td>\n",
              "      <td>am</td>\n",
              "      <td>12/20/1926</td>\n",
              "    </tr>\n",
              "    <tr>\n",
              "      <th>2</th>\n",
              "      <td>Miss</td>\n",
              "      <td>Harry</td>\n",
              "      <td>Meyer</td>\n",
              "      <td>zuz@lo.wf</td>\n",
              "      <td>Female</td>\n",
              "      <td>51</td>\n",
              "      <td>CSX Corp.</td>\n",
              "      <td>Political Scientist</td>\n",
              "      <td>(539) 246-1806</td>\n",
              "      <td>A0Z 6P9</td>\n",
              "      <td>NS</td>\n",
              "      <td>6300000000000000</td>\n",
              "      <td>02/2023</td>\n",
              "      <td>Switch</td>\n",
              "      <td>34.65</td>\n",
              "      <td>Black</td>\n",
              "      <td>186.150.187.29</td>\n",
              "      <td>Wednesday</td>\n",
              "      <td>pm</td>\n",
              "      <td>08/20/1931</td>\n",
              "    </tr>\n",
              "    <tr>\n",
              "      <th>3</th>\n",
              "      <td>Miss</td>\n",
              "      <td>Edith</td>\n",
              "      <td>Gilbert</td>\n",
              "      <td>hansohsi@jupec.md</td>\n",
              "      <td>Female</td>\n",
              "      <td>55</td>\n",
              "      <td>Murphy Oil Corporation</td>\n",
              "      <td>Transportation Manager</td>\n",
              "      <td>(984) 962-7494</td>\n",
              "      <td>P9I 9H3</td>\n",
              "      <td>YT</td>\n",
              "      <td>3530000000000000</td>\n",
              "      <td>02/2028</td>\n",
              "      <td>Maestro</td>\n",
              "      <td>64.59</td>\n",
              "      <td>White</td>\n",
              "      <td>80.140.57.161</td>\n",
              "      <td>Saturday</td>\n",
              "      <td>am</td>\n",
              "      <td>06/18/2001</td>\n",
              "    </tr>\n",
              "    <tr>\n",
              "      <th>4</th>\n",
              "      <td>Dr.</td>\n",
              "      <td>Lura</td>\n",
              "      <td>Murphy</td>\n",
              "      <td>webediti@je.st</td>\n",
              "      <td>Female</td>\n",
              "      <td>20</td>\n",
              "      <td>PETsMART Inc</td>\n",
              "      <td>Statistician</td>\n",
              "      <td>(902) 568-9748</td>\n",
              "      <td>S1A 6K0</td>\n",
              "      <td>ON</td>\n",
              "      <td>4030000000000000</td>\n",
              "      <td>10/2025</td>\n",
              "      <td>Diners Club International</td>\n",
              "      <td>20.83</td>\n",
              "      <td>Yellow</td>\n",
              "      <td>211.103.43.41</td>\n",
              "      <td>Friday</td>\n",
              "      <td>pm</td>\n",
              "      <td>06/14/2045</td>\n",
              "    </tr>\n",
              "  </tbody>\n",
              "</table>\n",
              "</div>"
            ],
            "text/plain": [
              "  prefix    first       last              email  gender  age  \\\n",
              "0    Dr.      Ray     Morton    sebvajom@kol.km    Male   38   \n",
              "1   Miss  Claudia  Rodriquez      acu@jatsot.ug  Female   51   \n",
              "2   Miss    Harry      Meyer          zuz@lo.wf  Female   51   \n",
              "3   Miss    Edith    Gilbert  hansohsi@jupec.md  Female   55   \n",
              "4    Dr.     Lura     Murphy     webediti@je.st  Female   20   \n",
              "\n",
              "                        company              profession           phone  \\\n",
              "0                Medtronic Inc.        Health Therapist  (987) 619-2695   \n",
              "1  Ames Department Stores, Inc.        Health Therapist  (356) 736-7352   \n",
              "2                     CSX Corp.     Political Scientist  (539) 246-1806   \n",
              "3        Murphy Oil Corporation  Transportation Manager  (984) 962-7494   \n",
              "4                  PETsMART Inc            Statistician  (902) 568-9748   \n",
              "\n",
              "    postal province             cc_no   cc_exp                    cc_type  \\\n",
              "0  B6V 3W3       MB  5020000000000230  05/2018                       Solo   \n",
              "1  G7M 5F3       SK  5020000000000230  07/2028                       Visa   \n",
              "2  A0Z 6P9       NS  6300000000000000  02/2023                     Switch   \n",
              "3  P9I 9H3       YT  3530000000000000  02/2028                    Maestro   \n",
              "4  S1A 6K0       ON  4030000000000000  10/2025  Diners Club International   \n",
              "\n",
              "   price(CAD) fav_color              ip    weekday ampm        date  \n",
              "0        8.36      Blue    126.23.139.2     Sunday   pm  04/05/1930  \n",
              "1       68.31     Black  106.198.76.211    Tuesday   am  12/20/1926  \n",
              "2       34.65     Black  186.150.187.29  Wednesday   pm  08/20/1931  \n",
              "3       64.59     White   80.140.57.161   Saturday   am  06/18/2001  \n",
              "4       20.83    Yellow   211.103.43.41     Friday   pm  06/14/2045  "
            ]
          },
          "execution_count": 3,
          "metadata": {},
          "output_type": "execute_result"
        }
      ],
      "source": []
    },
    {
      "cell_type": "markdown",
      "metadata": {
        "id": "83YGdMbHAWBc"
      },
      "source": [
        "**3. How many entries your data have?\n",
        "Can you tell the no. of columns in your data?**"
      ]
    },
    {
      "cell_type": "code",
      "execution_count": 4,
      "metadata": {
        "collapsed": true,
        "colab": {
          "base_uri": "https://localhost:8080/"
        },
        "id": "84Vq-jsFAWBd",
        "outputId": "2e840ec4-5014-4f1c-c29d-5a3dbffb9dd1"
      },
      "outputs": [
        {
          "output_type": "stream",
          "name": "stdout",
          "text": [
            "<class 'pandas.core.frame.DataFrame'>\n",
            "RangeIndex: 30000 entries, 0 to 29999\n",
            "Data columns (total 20 columns):\n",
            " #   Column      Non-Null Count  Dtype  \n",
            "---  ------      --------------  -----  \n",
            " 0   prefix      30000 non-null  object \n",
            " 1   first       30000 non-null  object \n",
            " 2   last        30000 non-null  object \n",
            " 3   email       30000 non-null  object \n",
            " 4   gender      30000 non-null  object \n",
            " 5   age         30000 non-null  int64  \n",
            " 6   company     30000 non-null  object \n",
            " 7   profession  30000 non-null  object \n",
            " 8   phone       30000 non-null  object \n",
            " 9   postal      30000 non-null  object \n",
            " 10  province    30000 non-null  object \n",
            " 11  cc_no       30000 non-null  int64  \n",
            " 12  cc_exp      30000 non-null  object \n",
            " 13  cc_type     30000 non-null  object \n",
            " 14  price(CAD)  30000 non-null  float64\n",
            " 15  fav_color   30000 non-null  object \n",
            " 16  ip          30000 non-null  object \n",
            " 17  weekday     30000 non-null  object \n",
            " 18  ampm        30000 non-null  object \n",
            " 19  date        30000 non-null  object \n",
            "dtypes: float64(1), int64(2), object(17)\n",
            "memory usage: 4.6+ MB\n"
          ]
        }
      ],
      "source": [
        "# Code here please\n",
        "ecom.info()"
      ]
    },
    {
      "cell_type": "code",
      "execution_count": 7,
      "metadata": {
        "colab": {
          "base_uri": "https://localhost:8080/"
        },
        "id": "j2J6A-I1AWBe",
        "outputId": "11da5c78-ae76-4425-864d-76137876bbc2"
      },
      "outputs": [
        {
          "output_type": "stream",
          "name": "stdout",
          "text": [
            "30000\n",
            "20\n"
          ]
        }
      ],
      "source": [
        "#another way to do it\n",
        "num_rows = ecom.shape[0]\n",
        "print(num_rows)\n",
        "num_cols = ecom.shape[1]\n",
        "print(num_cols)"
      ]
    },
    {
      "cell_type": "markdown",
      "metadata": {
        "id": "s437UUxRAWBf"
      },
      "source": [
        "**4. What are the max and min ages of your customer? Can you find mean of your customer?**"
      ]
    },
    {
      "cell_type": "code",
      "execution_count": 11,
      "metadata": {
        "collapsed": true,
        "colab": {
          "base_uri": "https://localhost:8080/"
        },
        "id": "oBcz_-VkAWBg",
        "outputId": "08fa5258-6f64-49f3-fee1-c9ac277b17df"
      },
      "outputs": [
        {
          "output_type": "stream",
          "name": "stdout",
          "text": [
            "Max. age of the customer is:   65\n",
            "Max. age of the customer is:   18\n",
            "Avg. age of the customer is:   41.550066666666666\n"
          ]
        }
      ],
      "source": [
        "# Code here please\n",
        "print(\"Max. age of the customer is:  \",ecom['age'].max())\n",
        "print(\"Max. age of the customer is:  \",ecom['age'].min())\n",
        "print(\"Avg. age of the customer is:  \",ecom['age'].mean())"
      ]
    },
    {
      "cell_type": "code",
      "execution_count": null,
      "metadata": {
        "id": "EalfhJFaAWBg",
        "outputId": "e381bf44-6645-4045-b59d-ef6a554e315e"
      },
      "outputs": [
        {
          "name": "stdout",
          "output_type": "stream",
          "text": [
            "Max. age of the customer is:  65\n",
            "Max. age of the customer is:  18\n",
            "Avg. age of the customer is:  41.550066666666666\n"
          ]
        }
      ],
      "source": []
    },
    {
      "cell_type": "markdown",
      "metadata": {
        "id": "VSnv0YnYAWBg"
      },
      "source": [
        "**5. What are the three most common customer's names?**<br>\n",
        "&#9989; [<code>**value_counts()**</code>](http://pandas.pydata.org/pandas-docs/stable/generated/pandas.Series.value_counts.html) returns object containing counts of unique values. The resulting object will be in descending order so that the first element is the most frequently-occurring element. Excludes NA values by default."
      ]
    },
    {
      "cell_type": "code",
      "execution_count": 12,
      "metadata": {
        "collapsed": true,
        "colab": {
          "base_uri": "https://localhost:8080/"
        },
        "id": "FtuYxkgLAWBh",
        "outputId": "d387d9f7-171a-4026-ac9c-5d802e2c0316"
      },
      "outputs": [
        {
          "output_type": "execute_result",
          "data": {
            "text/plain": [
              "Willie     130\n",
              "Francis    124\n",
              "Eula        86\n",
              "Name: first, dtype: int64"
            ]
          },
          "metadata": {},
          "execution_count": 12
        }
      ],
      "source": [
        "# Code here please\n",
        "ecom['first'].value_counts().head(3)"
      ]
    },
    {
      "cell_type": "code",
      "execution_count": null,
      "metadata": {
        "id": "OOr2TUElAWBh",
        "outputId": "30379c90-d9da-4b53-9d25-6e0c48ff5765"
      },
      "outputs": [
        {
          "data": {
            "text/plain": [
              "Willie     130\n",
              "Francis    124\n",
              "Eula        86\n",
              "Name: first, dtype: int64"
            ]
          },
          "execution_count": 6,
          "metadata": {},
          "output_type": "execute_result"
        }
      ],
      "source": []
    },
    {
      "cell_type": "markdown",
      "metadata": {
        "id": "ePQi6sktAWBh"
      },
      "source": [
        "**6. Two customers have the same phone number, can you find those customers**?"
      ]
    },
    {
      "cell_type": "code",
      "execution_count": 19,
      "metadata": {
        "collapsed": true,
        "colab": {
          "base_uri": "https://localhost:8080/"
        },
        "id": "_p1C4yXPAWBi",
        "outputId": "4fad2db4-7989-41fc-d84b-d59d025374ea"
      },
      "outputs": [
        {
          "output_type": "stream",
          "name": "stdout",
          "text": [
            "(263) 382-8004    2\n",
            "Name: phone, dtype: int64\n"
          ]
        }
      ],
      "source": [
        "# Code here please\n",
        "same_phone_number = ecom['phone'].value_counts()\n",
        "s_p_n = same_phone_number[same_phone_number == 2]\n",
        "print(s_p_n)"
      ]
    },
    {
      "cell_type": "code",
      "execution_count": null,
      "metadata": {
        "scrolled": true,
        "id": "OVLz5LqzAWBi",
        "outputId": "304f12fd-61a5-4542-e1fe-172a11306476"
      },
      "outputs": [
        {
          "data": {
            "text/plain": [
              "(263) 382-8004    2\n",
              "(668) 836-2738    1\n",
              "Name: phone, dtype: int64"
            ]
          },
          "execution_count": 7,
          "metadata": {},
          "output_type": "execute_result"
        }
      ],
      "source": [
        "# lets find what phone number is twice!\n"
      ]
    },
    {
      "cell_type": "code",
      "source": [
        "find_same = ecom[ecom['phone']== \"(263) 382-8004\" ]"
      ],
      "metadata": {
        "id": "ydEnpbmtMD-6"
      },
      "execution_count": 22,
      "outputs": []
    },
    {
      "cell_type": "code",
      "source": [
        "find_same"
      ],
      "metadata": {
        "colab": {
          "base_uri": "https://localhost:8080/",
          "height": 263
        },
        "id": "9S65oMkmMKxU",
        "outputId": "fd59ff2f-6d30-4e16-ede5-7d23fe77eddd"
      },
      "execution_count": 23,
      "outputs": [
        {
          "output_type": "execute_result",
          "data": {
            "text/plain": [
              "   prefix  first   last                email  gender  age            company  \\\n",
              "15   Mrs.  Lilly  Tyler      kofadu@itohi.tf  Female   38          CSX Corp.   \n",
              "16   Mrs.  Peter   Cain  megkosig@anazeor.gn    Male   27  Campbell Soup Co.   \n",
              "\n",
              "             profession           phone   postal province             cc_no  \\\n",
              "15  Structural Engineer  (263) 382-8004  V7K 1E3       ON    30000000000000   \n",
              "16   Insurance Adjuster  (263) 382-8004  E8T 2B4       YT  3530000000000000   \n",
              "\n",
              "     cc_exp                    cc_type  price(CAD) fav_color              ip  \\\n",
              "15  11/2022  Diners Club Carte Blanche        9.61    Yellow   74.124.37.227   \n",
              "16  03/2024                       Solo       13.74     Black  25.207.141.135   \n",
              "\n",
              "     weekday ampm        date  \n",
              "15  Saturday   am  03/30/1985  \n",
              "16   Tuesday   am  08/05/1950  "
            ],
            "text/html": [
              "\n",
              "  <div id=\"df-38ae09fb-33a2-4ad2-ab16-cda09a14e70f\">\n",
              "    <div class=\"colab-df-container\">\n",
              "      <div>\n",
              "<style scoped>\n",
              "    .dataframe tbody tr th:only-of-type {\n",
              "        vertical-align: middle;\n",
              "    }\n",
              "\n",
              "    .dataframe tbody tr th {\n",
              "        vertical-align: top;\n",
              "    }\n",
              "\n",
              "    .dataframe thead th {\n",
              "        text-align: right;\n",
              "    }\n",
              "</style>\n",
              "<table border=\"1\" class=\"dataframe\">\n",
              "  <thead>\n",
              "    <tr style=\"text-align: right;\">\n",
              "      <th></th>\n",
              "      <th>prefix</th>\n",
              "      <th>first</th>\n",
              "      <th>last</th>\n",
              "      <th>email</th>\n",
              "      <th>gender</th>\n",
              "      <th>age</th>\n",
              "      <th>company</th>\n",
              "      <th>profession</th>\n",
              "      <th>phone</th>\n",
              "      <th>postal</th>\n",
              "      <th>province</th>\n",
              "      <th>cc_no</th>\n",
              "      <th>cc_exp</th>\n",
              "      <th>cc_type</th>\n",
              "      <th>price(CAD)</th>\n",
              "      <th>fav_color</th>\n",
              "      <th>ip</th>\n",
              "      <th>weekday</th>\n",
              "      <th>ampm</th>\n",
              "      <th>date</th>\n",
              "    </tr>\n",
              "  </thead>\n",
              "  <tbody>\n",
              "    <tr>\n",
              "      <th>15</th>\n",
              "      <td>Mrs.</td>\n",
              "      <td>Lilly</td>\n",
              "      <td>Tyler</td>\n",
              "      <td>kofadu@itohi.tf</td>\n",
              "      <td>Female</td>\n",
              "      <td>38</td>\n",
              "      <td>CSX Corp.</td>\n",
              "      <td>Structural Engineer</td>\n",
              "      <td>(263) 382-8004</td>\n",
              "      <td>V7K 1E3</td>\n",
              "      <td>ON</td>\n",
              "      <td>30000000000000</td>\n",
              "      <td>11/2022</td>\n",
              "      <td>Diners Club Carte Blanche</td>\n",
              "      <td>9.61</td>\n",
              "      <td>Yellow</td>\n",
              "      <td>74.124.37.227</td>\n",
              "      <td>Saturday</td>\n",
              "      <td>am</td>\n",
              "      <td>03/30/1985</td>\n",
              "    </tr>\n",
              "    <tr>\n",
              "      <th>16</th>\n",
              "      <td>Mrs.</td>\n",
              "      <td>Peter</td>\n",
              "      <td>Cain</td>\n",
              "      <td>megkosig@anazeor.gn</td>\n",
              "      <td>Male</td>\n",
              "      <td>27</td>\n",
              "      <td>Campbell Soup Co.</td>\n",
              "      <td>Insurance Adjuster</td>\n",
              "      <td>(263) 382-8004</td>\n",
              "      <td>E8T 2B4</td>\n",
              "      <td>YT</td>\n",
              "      <td>3530000000000000</td>\n",
              "      <td>03/2024</td>\n",
              "      <td>Solo</td>\n",
              "      <td>13.74</td>\n",
              "      <td>Black</td>\n",
              "      <td>25.207.141.135</td>\n",
              "      <td>Tuesday</td>\n",
              "      <td>am</td>\n",
              "      <td>08/05/1950</td>\n",
              "    </tr>\n",
              "  </tbody>\n",
              "</table>\n",
              "</div>\n",
              "      <button class=\"colab-df-convert\" onclick=\"convertToInteractive('df-38ae09fb-33a2-4ad2-ab16-cda09a14e70f')\"\n",
              "              title=\"Convert this dataframe to an interactive table.\"\n",
              "              style=\"display:none;\">\n",
              "        \n",
              "  <svg xmlns=\"http://www.w3.org/2000/svg\" height=\"24px\"viewBox=\"0 0 24 24\"\n",
              "       width=\"24px\">\n",
              "    <path d=\"M0 0h24v24H0V0z\" fill=\"none\"/>\n",
              "    <path d=\"M18.56 5.44l.94 2.06.94-2.06 2.06-.94-2.06-.94-.94-2.06-.94 2.06-2.06.94zm-11 1L8.5 8.5l.94-2.06 2.06-.94-2.06-.94L8.5 2.5l-.94 2.06-2.06.94zm10 10l.94 2.06.94-2.06 2.06-.94-2.06-.94-.94-2.06-.94 2.06-2.06.94z\"/><path d=\"M17.41 7.96l-1.37-1.37c-.4-.4-.92-.59-1.43-.59-.52 0-1.04.2-1.43.59L10.3 9.45l-7.72 7.72c-.78.78-.78 2.05 0 2.83L4 21.41c.39.39.9.59 1.41.59.51 0 1.02-.2 1.41-.59l7.78-7.78 2.81-2.81c.8-.78.8-2.07 0-2.86zM5.41 20L4 18.59l7.72-7.72 1.47 1.35L5.41 20z\"/>\n",
              "  </svg>\n",
              "      </button>\n",
              "      \n",
              "  <style>\n",
              "    .colab-df-container {\n",
              "      display:flex;\n",
              "      flex-wrap:wrap;\n",
              "      gap: 12px;\n",
              "    }\n",
              "\n",
              "    .colab-df-convert {\n",
              "      background-color: #E8F0FE;\n",
              "      border: none;\n",
              "      border-radius: 50%;\n",
              "      cursor: pointer;\n",
              "      display: none;\n",
              "      fill: #1967D2;\n",
              "      height: 32px;\n",
              "      padding: 0 0 0 0;\n",
              "      width: 32px;\n",
              "    }\n",
              "\n",
              "    .colab-df-convert:hover {\n",
              "      background-color: #E2EBFA;\n",
              "      box-shadow: 0px 1px 2px rgba(60, 64, 67, 0.3), 0px 1px 3px 1px rgba(60, 64, 67, 0.15);\n",
              "      fill: #174EA6;\n",
              "    }\n",
              "\n",
              "    [theme=dark] .colab-df-convert {\n",
              "      background-color: #3B4455;\n",
              "      fill: #D2E3FC;\n",
              "    }\n",
              "\n",
              "    [theme=dark] .colab-df-convert:hover {\n",
              "      background-color: #434B5C;\n",
              "      box-shadow: 0px 1px 3px 1px rgba(0, 0, 0, 0.15);\n",
              "      filter: drop-shadow(0px 1px 2px rgba(0, 0, 0, 0.3));\n",
              "      fill: #FFFFFF;\n",
              "    }\n",
              "  </style>\n",
              "\n",
              "      <script>\n",
              "        const buttonEl =\n",
              "          document.querySelector('#df-38ae09fb-33a2-4ad2-ab16-cda09a14e70f button.colab-df-convert');\n",
              "        buttonEl.style.display =\n",
              "          google.colab.kernel.accessAllowed ? 'block' : 'none';\n",
              "\n",
              "        async function convertToInteractive(key) {\n",
              "          const element = document.querySelector('#df-38ae09fb-33a2-4ad2-ab16-cda09a14e70f');\n",
              "          const dataTable =\n",
              "            await google.colab.kernel.invokeFunction('convertToInteractive',\n",
              "                                                     [key], {});\n",
              "          if (!dataTable) return;\n",
              "\n",
              "          const docLinkHtml = 'Like what you see? Visit the ' +\n",
              "            '<a target=\"_blank\" href=https://colab.research.google.com/notebooks/data_table.ipynb>data table notebook</a>'\n",
              "            + ' to learn more about interactive tables.';\n",
              "          element.innerHTML = '';\n",
              "          dataTable['output_type'] = 'display_data';\n",
              "          await google.colab.output.renderOutput(dataTable, element);\n",
              "          const docLink = document.createElement('div');\n",
              "          docLink.innerHTML = docLinkHtml;\n",
              "          element.appendChild(docLink);\n",
              "        }\n",
              "      </script>\n",
              "    </div>\n",
              "  </div>\n",
              "  "
            ]
          },
          "metadata": {},
          "execution_count": 23
        }
      ]
    },
    {
      "cell_type": "code",
      "execution_count": null,
      "metadata": {
        "id": "Mf9cyx3kAWBj",
        "outputId": "d4dfd3a0-c54c-4e48-80f8-b07b4a8cacb8"
      },
      "outputs": [
        {
          "data": {
            "text/html": [
              "<div>\n",
              "<style>\n",
              "    .dataframe thead tr:only-child th {\n",
              "        text-align: right;\n",
              "    }\n",
              "\n",
              "    .dataframe thead th {\n",
              "        text-align: left;\n",
              "    }\n",
              "\n",
              "    .dataframe tbody tr th {\n",
              "        vertical-align: top;\n",
              "    }\n",
              "</style>\n",
              "<table border=\"1\" class=\"dataframe\">\n",
              "  <thead>\n",
              "    <tr style=\"text-align: right;\">\n",
              "      <th></th>\n",
              "      <th>prefix</th>\n",
              "      <th>first</th>\n",
              "      <th>last</th>\n",
              "      <th>email</th>\n",
              "      <th>gender</th>\n",
              "      <th>age</th>\n",
              "      <th>company</th>\n",
              "      <th>profession</th>\n",
              "      <th>phone</th>\n",
              "      <th>postal</th>\n",
              "      <th>province</th>\n",
              "      <th>cc_no</th>\n",
              "      <th>cc_exp</th>\n",
              "      <th>cc_type</th>\n",
              "      <th>price(CAD)</th>\n",
              "      <th>fav_color</th>\n",
              "      <th>ip</th>\n",
              "      <th>weekday</th>\n",
              "      <th>ampm</th>\n",
              "      <th>date</th>\n",
              "    </tr>\n",
              "  </thead>\n",
              "  <tbody>\n",
              "    <tr>\n",
              "      <th>15</th>\n",
              "      <td>Mrs.</td>\n",
              "      <td>Lilly</td>\n",
              "      <td>Tyler</td>\n",
              "      <td>kofadu@itohi.tf</td>\n",
              "      <td>Female</td>\n",
              "      <td>38</td>\n",
              "      <td>CSX Corp.</td>\n",
              "      <td>Structural Engineer</td>\n",
              "      <td>(263) 382-8004</td>\n",
              "      <td>V7K 1E3</td>\n",
              "      <td>ON</td>\n",
              "      <td>30000000000000</td>\n",
              "      <td>11/2022</td>\n",
              "      <td>Diners Club Carte Blanche</td>\n",
              "      <td>9.61</td>\n",
              "      <td>Yellow</td>\n",
              "      <td>74.124.37.227</td>\n",
              "      <td>Saturday</td>\n",
              "      <td>am</td>\n",
              "      <td>03/30/1985</td>\n",
              "    </tr>\n",
              "    <tr>\n",
              "      <th>16</th>\n",
              "      <td>Mrs.</td>\n",
              "      <td>Peter</td>\n",
              "      <td>Cain</td>\n",
              "      <td>megkosig@anazeor.gn</td>\n",
              "      <td>Male</td>\n",
              "      <td>27</td>\n",
              "      <td>Campbell Soup Co.</td>\n",
              "      <td>Insurance Adjuster</td>\n",
              "      <td>(263) 382-8004</td>\n",
              "      <td>E8T 2B4</td>\n",
              "      <td>YT</td>\n",
              "      <td>3530000000000000</td>\n",
              "      <td>03/2024</td>\n",
              "      <td>Solo</td>\n",
              "      <td>13.74</td>\n",
              "      <td>Black</td>\n",
              "      <td>25.207.141.135</td>\n",
              "      <td>Tuesday</td>\n",
              "      <td>am</td>\n",
              "      <td>08/05/1950</td>\n",
              "    </tr>\n",
              "  </tbody>\n",
              "</table>\n",
              "</div>"
            ],
            "text/plain": [
              "   prefix  first   last                email  gender  age            company  \\\n",
              "15   Mrs.  Lilly  Tyler      kofadu@itohi.tf  Female   38          CSX Corp.   \n",
              "16   Mrs.  Peter   Cain  megkosig@anazeor.gn    Male   27  Campbell Soup Co.   \n",
              "\n",
              "             profession           phone   postal province             cc_no  \\\n",
              "15  Structural Engineer  (263) 382-8004  V7K 1E3       ON    30000000000000   \n",
              "16   Insurance Adjuster  (263) 382-8004  E8T 2B4       YT  3530000000000000   \n",
              "\n",
              "     cc_exp                    cc_type  price(CAD) fav_color              ip  \\\n",
              "15  11/2022  Diners Club Carte Blanche        9.61    Yellow   74.124.37.227   \n",
              "16  03/2024                       Solo       13.74     Black  25.207.141.135   \n",
              "\n",
              "     weekday ampm        date  \n",
              "15  Saturday   am  03/30/1985  \n",
              "16   Tuesday   am  08/05/1950  "
            ]
          },
          "execution_count": 8,
          "metadata": {},
          "output_type": "execute_result"
        }
      ],
      "source": [
        "# Now we know the phone number, let's find out the other stuff!\n"
      ]
    },
    {
      "cell_type": "markdown",
      "metadata": {
        "id": "EiyyvsS3AWBk"
      },
      "source": [
        "**7. How many customers have profession \"Structural Engineer\"?**"
      ]
    },
    {
      "cell_type": "code",
      "execution_count": 86,
      "metadata": {
        "collapsed": true,
        "colab": {
          "base_uri": "https://localhost:8080/"
        },
        "id": "reom0fOeAWBk",
        "outputId": "8582b13d-f2f6-4d1d-91fc-accdf7cef403"
      },
      "outputs": [
        {
          "output_type": "execute_result",
          "data": {
            "text/plain": [
              "prefix        87\n",
              "first         87\n",
              "last          87\n",
              "email         87\n",
              "gender        87\n",
              "age           87\n",
              "company       87\n",
              "profession    87\n",
              "phone         87\n",
              "postal        87\n",
              "province      87\n",
              "cc_no         87\n",
              "cc_exp        87\n",
              "cc_type       87\n",
              "price(CAD)    87\n",
              "fav_color     87\n",
              "ip            87\n",
              "weekday       87\n",
              "ampm          87\n",
              "date          87\n",
              "dtype: int64"
            ]
          },
          "metadata": {},
          "execution_count": 86
        }
      ],
      "source": [
        "# Code here please\n",
        "profeS = ecom[ecom['profession'] == 'Structural Engineer']\n",
        "profeS.count()"
      ]
    },
    {
      "cell_type": "code",
      "execution_count": null,
      "metadata": {
        "id": "fosOg_I8AWBk",
        "outputId": "9f55d8b7-8208-4be6-e7f7-49cd3ba1f987"
      },
      "outputs": [
        {
          "data": {
            "text/plain": [
              "prefix        87\n",
              "first         87\n",
              "last          87\n",
              "email         87\n",
              "gender        87\n",
              "age           87\n",
              "company       87\n",
              "profession    87\n",
              "phone         87\n",
              "postal        87\n",
              "province      87\n",
              "cc_no         87\n",
              "cc_exp        87\n",
              "cc_type       87\n",
              "price(CAD)    87\n",
              "fav_color     87\n",
              "ip            87\n",
              "weekday       87\n",
              "ampm          87\n",
              "date          87\n",
              "dtype: int64"
            ]
          },
          "execution_count": 9,
          "metadata": {},
          "output_type": "execute_result"
        }
      ],
      "source": []
    },
    {
      "cell_type": "markdown",
      "metadata": {
        "id": "5LnUQOmtAWBl"
      },
      "source": [
        "**8. How many male customers are 'Structural Engineer'?**"
      ]
    },
    {
      "cell_type": "code",
      "execution_count": 74,
      "metadata": {
        "collapsed": true,
        "colab": {
          "base_uri": "https://localhost:8080/"
        },
        "id": "AD7JT5MfAWBl",
        "outputId": "131c4e8c-8b4a-408a-e28c-acc85c0c8167"
      },
      "outputs": [
        {
          "output_type": "execute_result",
          "data": {
            "text/plain": [
              "Female    15147\n",
              "Male      14853\n",
              "Name: gender, dtype: int64"
            ]
          },
          "metadata": {},
          "execution_count": 74
        }
      ],
      "source": [
        "# Code here please\n",
        "ecom['gender'].value_counts()"
      ]
    },
    {
      "cell_type": "code",
      "source": [
        "male_customerStr = ecom[(ecom['gender']=='Male') & (ecom['profession']=='Structural Engineer') ]"
      ],
      "metadata": {
        "id": "9Axjj2TRYpgQ"
      },
      "execution_count": 76,
      "outputs": []
    },
    {
      "cell_type": "code",
      "source": [
        "male_customerStr.count()"
      ],
      "metadata": {
        "colab": {
          "base_uri": "https://localhost:8080/"
        },
        "id": "JmHk7cQYZn-C",
        "outputId": "ade16eda-343e-48d6-9896-62f73bc0caef"
      },
      "execution_count": 83,
      "outputs": [
        {
          "output_type": "execute_result",
          "data": {
            "text/plain": [
              "prefix        43\n",
              "first         43\n",
              "last          43\n",
              "email         43\n",
              "gender        43\n",
              "age           43\n",
              "company       43\n",
              "profession    43\n",
              "phone         43\n",
              "postal        43\n",
              "province      43\n",
              "cc_no         43\n",
              "cc_exp        43\n",
              "cc_type       43\n",
              "price(CAD)    43\n",
              "fav_color     43\n",
              "ip            43\n",
              "weekday       43\n",
              "ampm          43\n",
              "date          43\n",
              "dtype: int64"
            ]
          },
          "metadata": {},
          "execution_count": 83
        }
      ]
    },
    {
      "cell_type": "code",
      "source": [],
      "metadata": {
        "id": "A82EL1GzWlVq"
      },
      "execution_count": null,
      "outputs": []
    },
    {
      "cell_type": "code",
      "execution_count": null,
      "metadata": {
        "id": "IHBKlc4LAWBl",
        "outputId": "f92fcd8e-7758-47af-8d6e-ffb3d8b2b313"
      },
      "outputs": [
        {
          "data": {
            "text/plain": [
              "prefix        43\n",
              "first         43\n",
              "last          43\n",
              "email         43\n",
              "gender        43\n",
              "age           43\n",
              "company       43\n",
              "profession    43\n",
              "phone         43\n",
              "postal        43\n",
              "province      43\n",
              "cc_no         43\n",
              "cc_exp        43\n",
              "cc_type       43\n",
              "price(CAD)    43\n",
              "fav_color     43\n",
              "ip            43\n",
              "weekday       43\n",
              "ampm          43\n",
              "date          43\n",
              "dtype: int64"
            ]
          },
          "execution_count": 10,
          "metadata": {},
          "output_type": "execute_result"
        }
      ],
      "source": []
    },
    {
      "cell_type": "markdown",
      "metadata": {
        "id": "chDFZjaxAWBm"
      },
      "source": [
        "**9. Find out the female Structural Engineers from province Alberta (AB)?**"
      ]
    },
    {
      "cell_type": "code",
      "execution_count": 87,
      "metadata": {
        "collapsed": true,
        "id": "UuBykBQBAWBm"
      },
      "outputs": [],
      "source": [
        "# Code here please\n",
        "fem_Struc_Eng_pro = ecom[(ecom['gender']=='Female') & (ecom[\"province\"]=='AB') & (ecom['profession']=='Structural Engineer') ]"
      ]
    },
    {
      "cell_type": "code",
      "source": [
        "fem_Struc_Eng_pro"
      ],
      "metadata": {
        "colab": {
          "base_uri": "https://localhost:8080/",
          "height": 395
        },
        "id": "3ofG-8uubcmh",
        "outputId": "821d0368-50b1-4088-b56a-313c7c721fc7"
      },
      "execution_count": 88,
      "outputs": [
        {
          "output_type": "execute_result",
          "data": {
            "text/plain": [
              "      prefix first      last              email  gender  age  \\\n",
              "8858     Dr.   Roy   Stanley  apiunvo@ehasom.ir  Female   39   \n",
              "9058     Mr.  Lora   Kennedy    dennap@rabac.se  Female   51   \n",
              "24736   Mrs.  Nell  Richards          dob@me.ki  Female   18   \n",
              "29865   Mrs.   Don  McDaniel        naf@zudu.bj  Female   37   \n",
              "\n",
              "                              company           profession           phone  \\\n",
              "8858       Cincinnati Financial Corp.  Structural Engineer  (876) 758-2929   \n",
              "9058              BJ Services Company  Structural Engineer  (305) 786-6959   \n",
              "24736    Telephone & Data Systems Inc  Structural Engineer  (262) 681-5018   \n",
              "29865  Anadarko Petroleum Corporation  Structural Engineer  (238) 789-2825   \n",
              "\n",
              "        postal province             cc_no   cc_exp  \\\n",
              "8858   N5A 6L2       AB  6300000000000000  02/2022   \n",
              "9058   N3R 4B7       AB   201000000000000  06/2019   \n",
              "24736  N3Y 3G2       AB   347000000000000  07/2028   \n",
              "29865  B4A 8Q9       AB  5610000000000000  12/2022   \n",
              "\n",
              "                                  cc_type  price(CAD) fav_color  \\\n",
              "8858                         InstaPayment       31.86       Red   \n",
              "9058   Diners Club United States & Canada       53.29     Black   \n",
              "24736                    American Express       76.28      Blue   \n",
              "29865                          Mastercard       62.71      Blue   \n",
              "\n",
              "                    ip    weekday ampm        date  \n",
              "8858    165.249.159.57     Sunday   pm  12/25/1903  \n",
              "9058    42.216.243.206   Thursday   pm  06/06/2028  \n",
              "24736     91.16.30.156  Wednesday   pm  07/14/1951  \n",
              "29865  162.233.117.142     Sunday   pm  11/03/1989  "
            ],
            "text/html": [
              "\n",
              "  <div id=\"df-e12b7457-c8c5-4818-afb5-3ceacbd7e005\">\n",
              "    <div class=\"colab-df-container\">\n",
              "      <div>\n",
              "<style scoped>\n",
              "    .dataframe tbody tr th:only-of-type {\n",
              "        vertical-align: middle;\n",
              "    }\n",
              "\n",
              "    .dataframe tbody tr th {\n",
              "        vertical-align: top;\n",
              "    }\n",
              "\n",
              "    .dataframe thead th {\n",
              "        text-align: right;\n",
              "    }\n",
              "</style>\n",
              "<table border=\"1\" class=\"dataframe\">\n",
              "  <thead>\n",
              "    <tr style=\"text-align: right;\">\n",
              "      <th></th>\n",
              "      <th>prefix</th>\n",
              "      <th>first</th>\n",
              "      <th>last</th>\n",
              "      <th>email</th>\n",
              "      <th>gender</th>\n",
              "      <th>age</th>\n",
              "      <th>company</th>\n",
              "      <th>profession</th>\n",
              "      <th>phone</th>\n",
              "      <th>postal</th>\n",
              "      <th>province</th>\n",
              "      <th>cc_no</th>\n",
              "      <th>cc_exp</th>\n",
              "      <th>cc_type</th>\n",
              "      <th>price(CAD)</th>\n",
              "      <th>fav_color</th>\n",
              "      <th>ip</th>\n",
              "      <th>weekday</th>\n",
              "      <th>ampm</th>\n",
              "      <th>date</th>\n",
              "    </tr>\n",
              "  </thead>\n",
              "  <tbody>\n",
              "    <tr>\n",
              "      <th>8858</th>\n",
              "      <td>Dr.</td>\n",
              "      <td>Roy</td>\n",
              "      <td>Stanley</td>\n",
              "      <td>apiunvo@ehasom.ir</td>\n",
              "      <td>Female</td>\n",
              "      <td>39</td>\n",
              "      <td>Cincinnati Financial Corp.</td>\n",
              "      <td>Structural Engineer</td>\n",
              "      <td>(876) 758-2929</td>\n",
              "      <td>N5A 6L2</td>\n",
              "      <td>AB</td>\n",
              "      <td>6300000000000000</td>\n",
              "      <td>02/2022</td>\n",
              "      <td>InstaPayment</td>\n",
              "      <td>31.86</td>\n",
              "      <td>Red</td>\n",
              "      <td>165.249.159.57</td>\n",
              "      <td>Sunday</td>\n",
              "      <td>pm</td>\n",
              "      <td>12/25/1903</td>\n",
              "    </tr>\n",
              "    <tr>\n",
              "      <th>9058</th>\n",
              "      <td>Mr.</td>\n",
              "      <td>Lora</td>\n",
              "      <td>Kennedy</td>\n",
              "      <td>dennap@rabac.se</td>\n",
              "      <td>Female</td>\n",
              "      <td>51</td>\n",
              "      <td>BJ Services Company</td>\n",
              "      <td>Structural Engineer</td>\n",
              "      <td>(305) 786-6959</td>\n",
              "      <td>N3R 4B7</td>\n",
              "      <td>AB</td>\n",
              "      <td>201000000000000</td>\n",
              "      <td>06/2019</td>\n",
              "      <td>Diners Club United States &amp; Canada</td>\n",
              "      <td>53.29</td>\n",
              "      <td>Black</td>\n",
              "      <td>42.216.243.206</td>\n",
              "      <td>Thursday</td>\n",
              "      <td>pm</td>\n",
              "      <td>06/06/2028</td>\n",
              "    </tr>\n",
              "    <tr>\n",
              "      <th>24736</th>\n",
              "      <td>Mrs.</td>\n",
              "      <td>Nell</td>\n",
              "      <td>Richards</td>\n",
              "      <td>dob@me.ki</td>\n",
              "      <td>Female</td>\n",
              "      <td>18</td>\n",
              "      <td>Telephone &amp; Data Systems Inc</td>\n",
              "      <td>Structural Engineer</td>\n",
              "      <td>(262) 681-5018</td>\n",
              "      <td>N3Y 3G2</td>\n",
              "      <td>AB</td>\n",
              "      <td>347000000000000</td>\n",
              "      <td>07/2028</td>\n",
              "      <td>American Express</td>\n",
              "      <td>76.28</td>\n",
              "      <td>Blue</td>\n",
              "      <td>91.16.30.156</td>\n",
              "      <td>Wednesday</td>\n",
              "      <td>pm</td>\n",
              "      <td>07/14/1951</td>\n",
              "    </tr>\n",
              "    <tr>\n",
              "      <th>29865</th>\n",
              "      <td>Mrs.</td>\n",
              "      <td>Don</td>\n",
              "      <td>McDaniel</td>\n",
              "      <td>naf@zudu.bj</td>\n",
              "      <td>Female</td>\n",
              "      <td>37</td>\n",
              "      <td>Anadarko Petroleum Corporation</td>\n",
              "      <td>Structural Engineer</td>\n",
              "      <td>(238) 789-2825</td>\n",
              "      <td>B4A 8Q9</td>\n",
              "      <td>AB</td>\n",
              "      <td>5610000000000000</td>\n",
              "      <td>12/2022</td>\n",
              "      <td>Mastercard</td>\n",
              "      <td>62.71</td>\n",
              "      <td>Blue</td>\n",
              "      <td>162.233.117.142</td>\n",
              "      <td>Sunday</td>\n",
              "      <td>pm</td>\n",
              "      <td>11/03/1989</td>\n",
              "    </tr>\n",
              "  </tbody>\n",
              "</table>\n",
              "</div>\n",
              "      <button class=\"colab-df-convert\" onclick=\"convertToInteractive('df-e12b7457-c8c5-4818-afb5-3ceacbd7e005')\"\n",
              "              title=\"Convert this dataframe to an interactive table.\"\n",
              "              style=\"display:none;\">\n",
              "        \n",
              "  <svg xmlns=\"http://www.w3.org/2000/svg\" height=\"24px\"viewBox=\"0 0 24 24\"\n",
              "       width=\"24px\">\n",
              "    <path d=\"M0 0h24v24H0V0z\" fill=\"none\"/>\n",
              "    <path d=\"M18.56 5.44l.94 2.06.94-2.06 2.06-.94-2.06-.94-.94-2.06-.94 2.06-2.06.94zm-11 1L8.5 8.5l.94-2.06 2.06-.94-2.06-.94L8.5 2.5l-.94 2.06-2.06.94zm10 10l.94 2.06.94-2.06 2.06-.94-2.06-.94-.94-2.06-.94 2.06-2.06.94z\"/><path d=\"M17.41 7.96l-1.37-1.37c-.4-.4-.92-.59-1.43-.59-.52 0-1.04.2-1.43.59L10.3 9.45l-7.72 7.72c-.78.78-.78 2.05 0 2.83L4 21.41c.39.39.9.59 1.41.59.51 0 1.02-.2 1.41-.59l7.78-7.78 2.81-2.81c.8-.78.8-2.07 0-2.86zM5.41 20L4 18.59l7.72-7.72 1.47 1.35L5.41 20z\"/>\n",
              "  </svg>\n",
              "      </button>\n",
              "      \n",
              "  <style>\n",
              "    .colab-df-container {\n",
              "      display:flex;\n",
              "      flex-wrap:wrap;\n",
              "      gap: 12px;\n",
              "    }\n",
              "\n",
              "    .colab-df-convert {\n",
              "      background-color: #E8F0FE;\n",
              "      border: none;\n",
              "      border-radius: 50%;\n",
              "      cursor: pointer;\n",
              "      display: none;\n",
              "      fill: #1967D2;\n",
              "      height: 32px;\n",
              "      padding: 0 0 0 0;\n",
              "      width: 32px;\n",
              "    }\n",
              "\n",
              "    .colab-df-convert:hover {\n",
              "      background-color: #E2EBFA;\n",
              "      box-shadow: 0px 1px 2px rgba(60, 64, 67, 0.3), 0px 1px 3px 1px rgba(60, 64, 67, 0.15);\n",
              "      fill: #174EA6;\n",
              "    }\n",
              "\n",
              "    [theme=dark] .colab-df-convert {\n",
              "      background-color: #3B4455;\n",
              "      fill: #D2E3FC;\n",
              "    }\n",
              "\n",
              "    [theme=dark] .colab-df-convert:hover {\n",
              "      background-color: #434B5C;\n",
              "      box-shadow: 0px 1px 3px 1px rgba(0, 0, 0, 0.15);\n",
              "      filter: drop-shadow(0px 1px 2px rgba(0, 0, 0, 0.3));\n",
              "      fill: #FFFFFF;\n",
              "    }\n",
              "  </style>\n",
              "\n",
              "      <script>\n",
              "        const buttonEl =\n",
              "          document.querySelector('#df-e12b7457-c8c5-4818-afb5-3ceacbd7e005 button.colab-df-convert');\n",
              "        buttonEl.style.display =\n",
              "          google.colab.kernel.accessAllowed ? 'block' : 'none';\n",
              "\n",
              "        async function convertToInteractive(key) {\n",
              "          const element = document.querySelector('#df-e12b7457-c8c5-4818-afb5-3ceacbd7e005');\n",
              "          const dataTable =\n",
              "            await google.colab.kernel.invokeFunction('convertToInteractive',\n",
              "                                                     [key], {});\n",
              "          if (!dataTable) return;\n",
              "\n",
              "          const docLinkHtml = 'Like what you see? Visit the ' +\n",
              "            '<a target=\"_blank\" href=https://colab.research.google.com/notebooks/data_table.ipynb>data table notebook</a>'\n",
              "            + ' to learn more about interactive tables.';\n",
              "          element.innerHTML = '';\n",
              "          dataTable['output_type'] = 'display_data';\n",
              "          await google.colab.output.renderOutput(dataTable, element);\n",
              "          const docLink = document.createElement('div');\n",
              "          docLink.innerHTML = docLinkHtml;\n",
              "          element.appendChild(docLink);\n",
              "        }\n",
              "      </script>\n",
              "    </div>\n",
              "  </div>\n",
              "  "
            ]
          },
          "metadata": {},
          "execution_count": 88
        }
      ]
    },
    {
      "cell_type": "code",
      "execution_count": null,
      "metadata": {
        "id": "W38fzDHeAWBm",
        "outputId": "338d3d4a-2229-4ab2-97ca-bddb74413959"
      },
      "outputs": [
        {
          "data": {
            "text/html": [
              "<div>\n",
              "<style>\n",
              "    .dataframe thead tr:only-child th {\n",
              "        text-align: right;\n",
              "    }\n",
              "\n",
              "    .dataframe thead th {\n",
              "        text-align: left;\n",
              "    }\n",
              "\n",
              "    .dataframe tbody tr th {\n",
              "        vertical-align: top;\n",
              "    }\n",
              "</style>\n",
              "<table border=\"1\" class=\"dataframe\">\n",
              "  <thead>\n",
              "    <tr style=\"text-align: right;\">\n",
              "      <th></th>\n",
              "      <th>prefix</th>\n",
              "      <th>first</th>\n",
              "      <th>last</th>\n",
              "      <th>email</th>\n",
              "      <th>gender</th>\n",
              "      <th>age</th>\n",
              "      <th>company</th>\n",
              "      <th>profession</th>\n",
              "      <th>phone</th>\n",
              "      <th>postal</th>\n",
              "      <th>province</th>\n",
              "      <th>cc_no</th>\n",
              "      <th>cc_exp</th>\n",
              "      <th>cc_type</th>\n",
              "      <th>price(CAD)</th>\n",
              "      <th>fav_color</th>\n",
              "      <th>ip</th>\n",
              "      <th>weekday</th>\n",
              "      <th>ampm</th>\n",
              "      <th>date</th>\n",
              "    </tr>\n",
              "  </thead>\n",
              "  <tbody>\n",
              "    <tr>\n",
              "      <th>8858</th>\n",
              "      <td>Dr.</td>\n",
              "      <td>Roy</td>\n",
              "      <td>Stanley</td>\n",
              "      <td>apiunvo@ehasom.ir</td>\n",
              "      <td>Female</td>\n",
              "      <td>39</td>\n",
              "      <td>Cincinnati Financial Corp.</td>\n",
              "      <td>Structural Engineer</td>\n",
              "      <td>(876) 758-2929</td>\n",
              "      <td>N5A 6L2</td>\n",
              "      <td>AB</td>\n",
              "      <td>6300000000000000</td>\n",
              "      <td>02/2022</td>\n",
              "      <td>InstaPayment</td>\n",
              "      <td>31.86</td>\n",
              "      <td>Red</td>\n",
              "      <td>165.249.159.57</td>\n",
              "      <td>Sunday</td>\n",
              "      <td>pm</td>\n",
              "      <td>12/25/1903</td>\n",
              "    </tr>\n",
              "    <tr>\n",
              "      <th>9058</th>\n",
              "      <td>Mr.</td>\n",
              "      <td>Lora</td>\n",
              "      <td>Kennedy</td>\n",
              "      <td>dennap@rabac.se</td>\n",
              "      <td>Female</td>\n",
              "      <td>51</td>\n",
              "      <td>BJ Services Company</td>\n",
              "      <td>Structural Engineer</td>\n",
              "      <td>(305) 786-6959</td>\n",
              "      <td>N3R 4B7</td>\n",
              "      <td>AB</td>\n",
              "      <td>201000000000000</td>\n",
              "      <td>06/2019</td>\n",
              "      <td>Diners Club United States &amp; Canada</td>\n",
              "      <td>53.29</td>\n",
              "      <td>Black</td>\n",
              "      <td>42.216.243.206</td>\n",
              "      <td>Thursday</td>\n",
              "      <td>pm</td>\n",
              "      <td>06/06/2028</td>\n",
              "    </tr>\n",
              "    <tr>\n",
              "      <th>24736</th>\n",
              "      <td>Mrs.</td>\n",
              "      <td>Nell</td>\n",
              "      <td>Richards</td>\n",
              "      <td>dob@me.ki</td>\n",
              "      <td>Female</td>\n",
              "      <td>18</td>\n",
              "      <td>Telephone &amp; Data Systems Inc</td>\n",
              "      <td>Structural Engineer</td>\n",
              "      <td>(262) 681-5018</td>\n",
              "      <td>N3Y 3G2</td>\n",
              "      <td>AB</td>\n",
              "      <td>347000000000000</td>\n",
              "      <td>07/2028</td>\n",
              "      <td>American Express</td>\n",
              "      <td>76.28</td>\n",
              "      <td>Blue</td>\n",
              "      <td>91.16.30.156</td>\n",
              "      <td>Wednesday</td>\n",
              "      <td>pm</td>\n",
              "      <td>07/14/1951</td>\n",
              "    </tr>\n",
              "    <tr>\n",
              "      <th>29865</th>\n",
              "      <td>Mrs.</td>\n",
              "      <td>Don</td>\n",
              "      <td>McDaniel</td>\n",
              "      <td>naf@zudu.bj</td>\n",
              "      <td>Female</td>\n",
              "      <td>37</td>\n",
              "      <td>Anadarko Petroleum Corporation</td>\n",
              "      <td>Structural Engineer</td>\n",
              "      <td>(238) 789-2825</td>\n",
              "      <td>B4A 8Q9</td>\n",
              "      <td>AB</td>\n",
              "      <td>5610000000000000</td>\n",
              "      <td>12/2022</td>\n",
              "      <td>Mastercard</td>\n",
              "      <td>62.71</td>\n",
              "      <td>Blue</td>\n",
              "      <td>162.233.117.142</td>\n",
              "      <td>Sunday</td>\n",
              "      <td>pm</td>\n",
              "      <td>11/03/1989</td>\n",
              "    </tr>\n",
              "  </tbody>\n",
              "</table>\n",
              "</div>"
            ],
            "text/plain": [
              "      prefix first      last              email  gender  age  \\\n",
              "8858     Dr.   Roy   Stanley  apiunvo@ehasom.ir  Female   39   \n",
              "9058     Mr.  Lora   Kennedy    dennap@rabac.se  Female   51   \n",
              "24736   Mrs.  Nell  Richards          dob@me.ki  Female   18   \n",
              "29865   Mrs.   Don  McDaniel        naf@zudu.bj  Female   37   \n",
              "\n",
              "                              company           profession           phone  \\\n",
              "8858       Cincinnati Financial Corp.  Structural Engineer  (876) 758-2929   \n",
              "9058              BJ Services Company  Structural Engineer  (305) 786-6959   \n",
              "24736    Telephone & Data Systems Inc  Structural Engineer  (262) 681-5018   \n",
              "29865  Anadarko Petroleum Corporation  Structural Engineer  (238) 789-2825   \n",
              "\n",
              "        postal province             cc_no   cc_exp  \\\n",
              "8858   N5A 6L2       AB  6300000000000000  02/2022   \n",
              "9058   N3R 4B7       AB   201000000000000  06/2019   \n",
              "24736  N3Y 3G2       AB   347000000000000  07/2028   \n",
              "29865  B4A 8Q9       AB  5610000000000000  12/2022   \n",
              "\n",
              "                                  cc_type  price(CAD) fav_color  \\\n",
              "8858                         InstaPayment       31.86       Red   \n",
              "9058   Diners Club United States & Canada       53.29     Black   \n",
              "24736                    American Express       76.28      Blue   \n",
              "29865                          Mastercard       62.71      Blue   \n",
              "\n",
              "                    ip    weekday ampm        date  \n",
              "8858    165.249.159.57     Sunday   pm  12/25/1903  \n",
              "9058    42.216.243.206   Thursday   pm  06/06/2028  \n",
              "24736     91.16.30.156  Wednesday   pm  07/14/1951  \n",
              "29865  162.233.117.142     Sunday   pm  11/03/1989  "
            ]
          },
          "execution_count": 11,
          "metadata": {},
          "output_type": "execute_result"
        }
      ],
      "source": []
    },
    {
      "cell_type": "markdown",
      "metadata": {
        "id": "wO9q-nLlAWBn"
      },
      "source": [
        "**10. What is the max, min and average spending?**"
      ]
    },
    {
      "cell_type": "code",
      "execution_count": 89,
      "metadata": {
        "collapsed": true,
        "colab": {
          "base_uri": "https://localhost:8080/"
        },
        "id": "6IATtXZJAWBn",
        "outputId": "f00dd68b-f438-4567-f109-4200027ff3a8"
      },
      "outputs": [
        {
          "output_type": "stream",
          "name": "stdout",
          "text": [
            "Max. spending:   100.0\n",
            "Min. spending:   0.0\n",
            "Avg. spending:   49.990775\n"
          ]
        }
      ],
      "source": [
        "# Code here please\n",
        "max_spending = ecom['price(CAD)'].max()\n",
        "min_spending = ecom['price(CAD)'].min()\n",
        "avg_spending = ecom['price(CAD)'].mean()\n",
        "\n",
        "print(\"Max. spending:  \", max_spending)\n",
        "print(\"Min. spending:  \", min_spending)\n",
        "print(\"Avg. spending:  \", avg_spending)"
      ]
    },
    {
      "cell_type": "code",
      "execution_count": null,
      "metadata": {
        "id": "eMTAQ4DcAWBo",
        "outputId": "5fc729ef-7403-4bee-fdf4-3504ef26680d"
      },
      "outputs": [
        {
          "name": "stdout",
          "output_type": "stream",
          "text": [
            "Max. spending:  100.0\n",
            "Mai. spending:  0.0\n",
            "Avg. spending:  49.990775000000184\n"
          ]
        }
      ],
      "source": []
    },
    {
      "cell_type": "markdown",
      "metadata": {
        "id": "ibKHf8MFAWBo"
      },
      "source": [
        "**11. Who did not spend anything? Company wants to send a deal to encourage the customer to buy stuff!**"
      ]
    },
    {
      "cell_type": "code",
      "execution_count": 94,
      "metadata": {
        "collapsed": true,
        "id": "xFVuGPnCAWBo"
      },
      "outputs": [],
      "source": [
        "# Code here please\n",
        "no_spend_custom = ecom[ecom['price(CAD)'] == 0.0]"
      ]
    },
    {
      "cell_type": "code",
      "source": [
        "no_spend_custom"
      ],
      "metadata": {
        "colab": {
          "base_uri": "https://localhost:8080/",
          "height": 280
        },
        "id": "AJNVaKy9djDq",
        "outputId": "f66ddcb0-a432-4c4e-881e-40fda2f6d8bd"
      },
      "execution_count": 95,
      "outputs": [
        {
          "output_type": "execute_result",
          "data": {
            "text/plain": [
              "      prefix  first   last           email  gender  age              company  \\\n",
              "5320     Dr.  Bruce  Bryan  ru@pubuspuh.cl    Male   59  Wal-Mart Stores Inc   \n",
              "10597   Mrs.  Flora  Clark      wad@me.com  Female   27         MetLife Inc.   \n",
              "\n",
              "                profession           phone   postal province            cc_no  \\\n",
              "5320   Engineer Technician  (709) 446-8317  H6H 3Y0       NU  201000000000000   \n",
              "10597      Cruise Director  (775) 373-6590  B2U 8K6       NB   30100000000000   \n",
              "\n",
              "        cc_exp                    cc_type  price(CAD) fav_color  \\\n",
              "5320   04/2024                   Bankcard         0.0     White   \n",
              "10597  05/2020  Diners Club Carte Blanche         0.0       Red   \n",
              "\n",
              "                  ip    weekday ampm        date  \n",
              "5320     82.70.62.64  Wednesday   am  12/11/1900  \n",
              "10597  231.156.15.63   Thursday   pm  08/22/1904  "
            ],
            "text/html": [
              "\n",
              "  <div id=\"df-b4805d84-84b1-4b1d-a6c7-9a3363069478\">\n",
              "    <div class=\"colab-df-container\">\n",
              "      <div>\n",
              "<style scoped>\n",
              "    .dataframe tbody tr th:only-of-type {\n",
              "        vertical-align: middle;\n",
              "    }\n",
              "\n",
              "    .dataframe tbody tr th {\n",
              "        vertical-align: top;\n",
              "    }\n",
              "\n",
              "    .dataframe thead th {\n",
              "        text-align: right;\n",
              "    }\n",
              "</style>\n",
              "<table border=\"1\" class=\"dataframe\">\n",
              "  <thead>\n",
              "    <tr style=\"text-align: right;\">\n",
              "      <th></th>\n",
              "      <th>prefix</th>\n",
              "      <th>first</th>\n",
              "      <th>last</th>\n",
              "      <th>email</th>\n",
              "      <th>gender</th>\n",
              "      <th>age</th>\n",
              "      <th>company</th>\n",
              "      <th>profession</th>\n",
              "      <th>phone</th>\n",
              "      <th>postal</th>\n",
              "      <th>province</th>\n",
              "      <th>cc_no</th>\n",
              "      <th>cc_exp</th>\n",
              "      <th>cc_type</th>\n",
              "      <th>price(CAD)</th>\n",
              "      <th>fav_color</th>\n",
              "      <th>ip</th>\n",
              "      <th>weekday</th>\n",
              "      <th>ampm</th>\n",
              "      <th>date</th>\n",
              "    </tr>\n",
              "  </thead>\n",
              "  <tbody>\n",
              "    <tr>\n",
              "      <th>5320</th>\n",
              "      <td>Dr.</td>\n",
              "      <td>Bruce</td>\n",
              "      <td>Bryan</td>\n",
              "      <td>ru@pubuspuh.cl</td>\n",
              "      <td>Male</td>\n",
              "      <td>59</td>\n",
              "      <td>Wal-Mart Stores Inc</td>\n",
              "      <td>Engineer Technician</td>\n",
              "      <td>(709) 446-8317</td>\n",
              "      <td>H6H 3Y0</td>\n",
              "      <td>NU</td>\n",
              "      <td>201000000000000</td>\n",
              "      <td>04/2024</td>\n",
              "      <td>Bankcard</td>\n",
              "      <td>0.0</td>\n",
              "      <td>White</td>\n",
              "      <td>82.70.62.64</td>\n",
              "      <td>Wednesday</td>\n",
              "      <td>am</td>\n",
              "      <td>12/11/1900</td>\n",
              "    </tr>\n",
              "    <tr>\n",
              "      <th>10597</th>\n",
              "      <td>Mrs.</td>\n",
              "      <td>Flora</td>\n",
              "      <td>Clark</td>\n",
              "      <td>wad@me.com</td>\n",
              "      <td>Female</td>\n",
              "      <td>27</td>\n",
              "      <td>MetLife Inc.</td>\n",
              "      <td>Cruise Director</td>\n",
              "      <td>(775) 373-6590</td>\n",
              "      <td>B2U 8K6</td>\n",
              "      <td>NB</td>\n",
              "      <td>30100000000000</td>\n",
              "      <td>05/2020</td>\n",
              "      <td>Diners Club Carte Blanche</td>\n",
              "      <td>0.0</td>\n",
              "      <td>Red</td>\n",
              "      <td>231.156.15.63</td>\n",
              "      <td>Thursday</td>\n",
              "      <td>pm</td>\n",
              "      <td>08/22/1904</td>\n",
              "    </tr>\n",
              "  </tbody>\n",
              "</table>\n",
              "</div>\n",
              "      <button class=\"colab-df-convert\" onclick=\"convertToInteractive('df-b4805d84-84b1-4b1d-a6c7-9a3363069478')\"\n",
              "              title=\"Convert this dataframe to an interactive table.\"\n",
              "              style=\"display:none;\">\n",
              "        \n",
              "  <svg xmlns=\"http://www.w3.org/2000/svg\" height=\"24px\"viewBox=\"0 0 24 24\"\n",
              "       width=\"24px\">\n",
              "    <path d=\"M0 0h24v24H0V0z\" fill=\"none\"/>\n",
              "    <path d=\"M18.56 5.44l.94 2.06.94-2.06 2.06-.94-2.06-.94-.94-2.06-.94 2.06-2.06.94zm-11 1L8.5 8.5l.94-2.06 2.06-.94-2.06-.94L8.5 2.5l-.94 2.06-2.06.94zm10 10l.94 2.06.94-2.06 2.06-.94-2.06-.94-.94-2.06-.94 2.06-2.06.94z\"/><path d=\"M17.41 7.96l-1.37-1.37c-.4-.4-.92-.59-1.43-.59-.52 0-1.04.2-1.43.59L10.3 9.45l-7.72 7.72c-.78.78-.78 2.05 0 2.83L4 21.41c.39.39.9.59 1.41.59.51 0 1.02-.2 1.41-.59l7.78-7.78 2.81-2.81c.8-.78.8-2.07 0-2.86zM5.41 20L4 18.59l7.72-7.72 1.47 1.35L5.41 20z\"/>\n",
              "  </svg>\n",
              "      </button>\n",
              "      \n",
              "  <style>\n",
              "    .colab-df-container {\n",
              "      display:flex;\n",
              "      flex-wrap:wrap;\n",
              "      gap: 12px;\n",
              "    }\n",
              "\n",
              "    .colab-df-convert {\n",
              "      background-color: #E8F0FE;\n",
              "      border: none;\n",
              "      border-radius: 50%;\n",
              "      cursor: pointer;\n",
              "      display: none;\n",
              "      fill: #1967D2;\n",
              "      height: 32px;\n",
              "      padding: 0 0 0 0;\n",
              "      width: 32px;\n",
              "    }\n",
              "\n",
              "    .colab-df-convert:hover {\n",
              "      background-color: #E2EBFA;\n",
              "      box-shadow: 0px 1px 2px rgba(60, 64, 67, 0.3), 0px 1px 3px 1px rgba(60, 64, 67, 0.15);\n",
              "      fill: #174EA6;\n",
              "    }\n",
              "\n",
              "    [theme=dark] .colab-df-convert {\n",
              "      background-color: #3B4455;\n",
              "      fill: #D2E3FC;\n",
              "    }\n",
              "\n",
              "    [theme=dark] .colab-df-convert:hover {\n",
              "      background-color: #434B5C;\n",
              "      box-shadow: 0px 1px 3px 1px rgba(0, 0, 0, 0.15);\n",
              "      filter: drop-shadow(0px 1px 2px rgba(0, 0, 0, 0.3));\n",
              "      fill: #FFFFFF;\n",
              "    }\n",
              "  </style>\n",
              "\n",
              "      <script>\n",
              "        const buttonEl =\n",
              "          document.querySelector('#df-b4805d84-84b1-4b1d-a6c7-9a3363069478 button.colab-df-convert');\n",
              "        buttonEl.style.display =\n",
              "          google.colab.kernel.accessAllowed ? 'block' : 'none';\n",
              "\n",
              "        async function convertToInteractive(key) {\n",
              "          const element = document.querySelector('#df-b4805d84-84b1-4b1d-a6c7-9a3363069478');\n",
              "          const dataTable =\n",
              "            await google.colab.kernel.invokeFunction('convertToInteractive',\n",
              "                                                     [key], {});\n",
              "          if (!dataTable) return;\n",
              "\n",
              "          const docLinkHtml = 'Like what you see? Visit the ' +\n",
              "            '<a target=\"_blank\" href=https://colab.research.google.com/notebooks/data_table.ipynb>data table notebook</a>'\n",
              "            + ' to learn more about interactive tables.';\n",
              "          element.innerHTML = '';\n",
              "          dataTable['output_type'] = 'display_data';\n",
              "          await google.colab.output.renderOutput(dataTable, element);\n",
              "          const docLink = document.createElement('div');\n",
              "          docLink.innerHTML = docLinkHtml;\n",
              "          element.appendChild(docLink);\n",
              "        }\n",
              "      </script>\n",
              "    </div>\n",
              "  </div>\n",
              "  "
            ]
          },
          "metadata": {},
          "execution_count": 95
        }
      ]
    },
    {
      "cell_type": "code",
      "execution_count": null,
      "metadata": {
        "id": "lwwuCtzjAWBo",
        "outputId": "8030fee0-dc20-42d8-b20e-516cbcc0e0bd"
      },
      "outputs": [
        {
          "data": {
            "text/html": [
              "<div>\n",
              "<style>\n",
              "    .dataframe thead tr:only-child th {\n",
              "        text-align: right;\n",
              "    }\n",
              "\n",
              "    .dataframe thead th {\n",
              "        text-align: left;\n",
              "    }\n",
              "\n",
              "    .dataframe tbody tr th {\n",
              "        vertical-align: top;\n",
              "    }\n",
              "</style>\n",
              "<table border=\"1\" class=\"dataframe\">\n",
              "  <thead>\n",
              "    <tr style=\"text-align: right;\">\n",
              "      <th></th>\n",
              "      <th>prefix</th>\n",
              "      <th>first</th>\n",
              "      <th>last</th>\n",
              "      <th>email</th>\n",
              "      <th>gender</th>\n",
              "      <th>age</th>\n",
              "      <th>company</th>\n",
              "      <th>profession</th>\n",
              "      <th>phone</th>\n",
              "      <th>postal</th>\n",
              "      <th>province</th>\n",
              "      <th>cc_no</th>\n",
              "      <th>cc_exp</th>\n",
              "      <th>cc_type</th>\n",
              "      <th>price(CAD)</th>\n",
              "      <th>fav_color</th>\n",
              "      <th>ip</th>\n",
              "      <th>weekday</th>\n",
              "      <th>ampm</th>\n",
              "      <th>date</th>\n",
              "    </tr>\n",
              "  </thead>\n",
              "  <tbody>\n",
              "    <tr>\n",
              "      <th>5320</th>\n",
              "      <td>Dr.</td>\n",
              "      <td>Bruce</td>\n",
              "      <td>Bryan</td>\n",
              "      <td>ru@pubuspuh.cl</td>\n",
              "      <td>Male</td>\n",
              "      <td>59</td>\n",
              "      <td>Wal-Mart Stores Inc</td>\n",
              "      <td>Engineer Technician</td>\n",
              "      <td>(709) 446-8317</td>\n",
              "      <td>H6H 3Y0</td>\n",
              "      <td>NU</td>\n",
              "      <td>201000000000000</td>\n",
              "      <td>04/2024</td>\n",
              "      <td>Bankcard</td>\n",
              "      <td>0.0</td>\n",
              "      <td>White</td>\n",
              "      <td>82.70.62.64</td>\n",
              "      <td>Wednesday</td>\n",
              "      <td>am</td>\n",
              "      <td>12/11/1900</td>\n",
              "    </tr>\n",
              "    <tr>\n",
              "      <th>10597</th>\n",
              "      <td>Mrs.</td>\n",
              "      <td>Flora</td>\n",
              "      <td>Clark</td>\n",
              "      <td>wad@me.com</td>\n",
              "      <td>Female</td>\n",
              "      <td>27</td>\n",
              "      <td>MetLife Inc.</td>\n",
              "      <td>Cruise Director</td>\n",
              "      <td>(775) 373-6590</td>\n",
              "      <td>B2U 8K6</td>\n",
              "      <td>NB</td>\n",
              "      <td>30100000000000</td>\n",
              "      <td>05/2020</td>\n",
              "      <td>Diners Club Carte Blanche</td>\n",
              "      <td>0.0</td>\n",
              "      <td>Red</td>\n",
              "      <td>231.156.15.63</td>\n",
              "      <td>Thursday</td>\n",
              "      <td>pm</td>\n",
              "      <td>08/22/1904</td>\n",
              "    </tr>\n",
              "  </tbody>\n",
              "</table>\n",
              "</div>"
            ],
            "text/plain": [
              "      prefix  first   last           email  gender  age              company  \\\n",
              "5320     Dr.  Bruce  Bryan  ru@pubuspuh.cl    Male   59  Wal-Mart Stores Inc   \n",
              "10597   Mrs.  Flora  Clark      wad@me.com  Female   27         MetLife Inc.   \n",
              "\n",
              "                profession           phone   postal province            cc_no  \\\n",
              "5320   Engineer Technician  (709) 446-8317  H6H 3Y0       NU  201000000000000   \n",
              "10597      Cruise Director  (775) 373-6590  B2U 8K6       NB   30100000000000   \n",
              "\n",
              "        cc_exp                    cc_type  price(CAD) fav_color  \\\n",
              "5320   04/2024                   Bankcard         0.0     White   \n",
              "10597  05/2020  Diners Club Carte Blanche         0.0       Red   \n",
              "\n",
              "                  ip    weekday ampm        date  \n",
              "5320     82.70.62.64  Wednesday   am  12/11/1900  \n",
              "10597  231.156.15.63   Thursday   pm  08/22/1904  "
            ]
          },
          "execution_count": 13,
          "metadata": {},
          "output_type": "execute_result"
        }
      ],
      "source": []
    },
    {
      "cell_type": "markdown",
      "metadata": {
        "id": "XroQ-P-2AWBp"
      },
      "source": [
        "**12. As a loyalty reward, company wants to send thanks coupon to those who spent 100CAD or more, please find out the customers?**"
      ]
    },
    {
      "cell_type": "code",
      "execution_count": 96,
      "metadata": {
        "collapsed": true,
        "id": "cHw01ofxAWBp"
      },
      "outputs": [],
      "source": [
        "# Code here please\n",
        "high_spend_custom = ecom[ecom['price(CAD)'] >= 100.0]"
      ]
    },
    {
      "cell_type": "code",
      "source": [
        "high_spend_custom"
      ],
      "metadata": {
        "colab": {
          "base_uri": "https://localhost:8080/",
          "height": 311
        },
        "id": "mi9crX77eUcS",
        "outputId": "c6a7d4f5-3524-4caf-83c5-c4d8d7017dde"
      },
      "execution_count": 97,
      "outputs": [
        {
          "output_type": "execute_result",
          "data": {
            "text/plain": [
              "      prefix    first         last          email  gender  age  \\\n",
              "76      Mrs.  Gregory        Brown     hav@jek.gs  Female   31   \n",
              "21093   Mrs.     Cody  Christensen    get@jovu.ag    Male   28   \n",
              "24385   Miss   Lizzie        Dixon  goh@tuwjaz.gd  Female   38   \n",
              "\n",
              "                         company              profession           phone  \\\n",
              "76           E*Trade Group, Inc.                Novelist  (625) 537-8923   \n",
              "21093        National City Corp.  Hospital Administrator  (261) 737-3292   \n",
              "24385  FleetBoston Financial Co.    Compensation Analyst  (989) 239-1752   \n",
              "\n",
              "        postal province             cc_no   cc_exp   cc_type  price(CAD)  \\\n",
              "76     X3S 4Q2       PE  6010000000000000  04/2018      Visa       100.0   \n",
              "21093  X0S 1O5       PE   201000000000000  03/2024       JCB       100.0   \n",
              "24385  V8X 9V6       NB  6300000000000000  07/2019  Bankcard       100.0   \n",
              "\n",
              "      fav_color             ip    weekday ampm        date  \n",
              "76        Green  212.100.18.95     Monday   am  10/23/2063  \n",
              "21093     Green  168.48.19.165  Wednesday   pm  03/28/1955  \n",
              "24385      Blue   140.87.99.78   Saturday   pm  03/03/1983  "
            ],
            "text/html": [
              "\n",
              "  <div id=\"df-aa64e37c-a347-4432-9728-8b6bd7b5e095\">\n",
              "    <div class=\"colab-df-container\">\n",
              "      <div>\n",
              "<style scoped>\n",
              "    .dataframe tbody tr th:only-of-type {\n",
              "        vertical-align: middle;\n",
              "    }\n",
              "\n",
              "    .dataframe tbody tr th {\n",
              "        vertical-align: top;\n",
              "    }\n",
              "\n",
              "    .dataframe thead th {\n",
              "        text-align: right;\n",
              "    }\n",
              "</style>\n",
              "<table border=\"1\" class=\"dataframe\">\n",
              "  <thead>\n",
              "    <tr style=\"text-align: right;\">\n",
              "      <th></th>\n",
              "      <th>prefix</th>\n",
              "      <th>first</th>\n",
              "      <th>last</th>\n",
              "      <th>email</th>\n",
              "      <th>gender</th>\n",
              "      <th>age</th>\n",
              "      <th>company</th>\n",
              "      <th>profession</th>\n",
              "      <th>phone</th>\n",
              "      <th>postal</th>\n",
              "      <th>province</th>\n",
              "      <th>cc_no</th>\n",
              "      <th>cc_exp</th>\n",
              "      <th>cc_type</th>\n",
              "      <th>price(CAD)</th>\n",
              "      <th>fav_color</th>\n",
              "      <th>ip</th>\n",
              "      <th>weekday</th>\n",
              "      <th>ampm</th>\n",
              "      <th>date</th>\n",
              "    </tr>\n",
              "  </thead>\n",
              "  <tbody>\n",
              "    <tr>\n",
              "      <th>76</th>\n",
              "      <td>Mrs.</td>\n",
              "      <td>Gregory</td>\n",
              "      <td>Brown</td>\n",
              "      <td>hav@jek.gs</td>\n",
              "      <td>Female</td>\n",
              "      <td>31</td>\n",
              "      <td>E*Trade Group, Inc.</td>\n",
              "      <td>Novelist</td>\n",
              "      <td>(625) 537-8923</td>\n",
              "      <td>X3S 4Q2</td>\n",
              "      <td>PE</td>\n",
              "      <td>6010000000000000</td>\n",
              "      <td>04/2018</td>\n",
              "      <td>Visa</td>\n",
              "      <td>100.0</td>\n",
              "      <td>Green</td>\n",
              "      <td>212.100.18.95</td>\n",
              "      <td>Monday</td>\n",
              "      <td>am</td>\n",
              "      <td>10/23/2063</td>\n",
              "    </tr>\n",
              "    <tr>\n",
              "      <th>21093</th>\n",
              "      <td>Mrs.</td>\n",
              "      <td>Cody</td>\n",
              "      <td>Christensen</td>\n",
              "      <td>get@jovu.ag</td>\n",
              "      <td>Male</td>\n",
              "      <td>28</td>\n",
              "      <td>National City Corp.</td>\n",
              "      <td>Hospital Administrator</td>\n",
              "      <td>(261) 737-3292</td>\n",
              "      <td>X0S 1O5</td>\n",
              "      <td>PE</td>\n",
              "      <td>201000000000000</td>\n",
              "      <td>03/2024</td>\n",
              "      <td>JCB</td>\n",
              "      <td>100.0</td>\n",
              "      <td>Green</td>\n",
              "      <td>168.48.19.165</td>\n",
              "      <td>Wednesday</td>\n",
              "      <td>pm</td>\n",
              "      <td>03/28/1955</td>\n",
              "    </tr>\n",
              "    <tr>\n",
              "      <th>24385</th>\n",
              "      <td>Miss</td>\n",
              "      <td>Lizzie</td>\n",
              "      <td>Dixon</td>\n",
              "      <td>goh@tuwjaz.gd</td>\n",
              "      <td>Female</td>\n",
              "      <td>38</td>\n",
              "      <td>FleetBoston Financial Co.</td>\n",
              "      <td>Compensation Analyst</td>\n",
              "      <td>(989) 239-1752</td>\n",
              "      <td>V8X 9V6</td>\n",
              "      <td>NB</td>\n",
              "      <td>6300000000000000</td>\n",
              "      <td>07/2019</td>\n",
              "      <td>Bankcard</td>\n",
              "      <td>100.0</td>\n",
              "      <td>Blue</td>\n",
              "      <td>140.87.99.78</td>\n",
              "      <td>Saturday</td>\n",
              "      <td>pm</td>\n",
              "      <td>03/03/1983</td>\n",
              "    </tr>\n",
              "  </tbody>\n",
              "</table>\n",
              "</div>\n",
              "      <button class=\"colab-df-convert\" onclick=\"convertToInteractive('df-aa64e37c-a347-4432-9728-8b6bd7b5e095')\"\n",
              "              title=\"Convert this dataframe to an interactive table.\"\n",
              "              style=\"display:none;\">\n",
              "        \n",
              "  <svg xmlns=\"http://www.w3.org/2000/svg\" height=\"24px\"viewBox=\"0 0 24 24\"\n",
              "       width=\"24px\">\n",
              "    <path d=\"M0 0h24v24H0V0z\" fill=\"none\"/>\n",
              "    <path d=\"M18.56 5.44l.94 2.06.94-2.06 2.06-.94-2.06-.94-.94-2.06-.94 2.06-2.06.94zm-11 1L8.5 8.5l.94-2.06 2.06-.94-2.06-.94L8.5 2.5l-.94 2.06-2.06.94zm10 10l.94 2.06.94-2.06 2.06-.94-2.06-.94-.94-2.06-.94 2.06-2.06.94z\"/><path d=\"M17.41 7.96l-1.37-1.37c-.4-.4-.92-.59-1.43-.59-.52 0-1.04.2-1.43.59L10.3 9.45l-7.72 7.72c-.78.78-.78 2.05 0 2.83L4 21.41c.39.39.9.59 1.41.59.51 0 1.02-.2 1.41-.59l7.78-7.78 2.81-2.81c.8-.78.8-2.07 0-2.86zM5.41 20L4 18.59l7.72-7.72 1.47 1.35L5.41 20z\"/>\n",
              "  </svg>\n",
              "      </button>\n",
              "      \n",
              "  <style>\n",
              "    .colab-df-container {\n",
              "      display:flex;\n",
              "      flex-wrap:wrap;\n",
              "      gap: 12px;\n",
              "    }\n",
              "\n",
              "    .colab-df-convert {\n",
              "      background-color: #E8F0FE;\n",
              "      border: none;\n",
              "      border-radius: 50%;\n",
              "      cursor: pointer;\n",
              "      display: none;\n",
              "      fill: #1967D2;\n",
              "      height: 32px;\n",
              "      padding: 0 0 0 0;\n",
              "      width: 32px;\n",
              "    }\n",
              "\n",
              "    .colab-df-convert:hover {\n",
              "      background-color: #E2EBFA;\n",
              "      box-shadow: 0px 1px 2px rgba(60, 64, 67, 0.3), 0px 1px 3px 1px rgba(60, 64, 67, 0.15);\n",
              "      fill: #174EA6;\n",
              "    }\n",
              "\n",
              "    [theme=dark] .colab-df-convert {\n",
              "      background-color: #3B4455;\n",
              "      fill: #D2E3FC;\n",
              "    }\n",
              "\n",
              "    [theme=dark] .colab-df-convert:hover {\n",
              "      background-color: #434B5C;\n",
              "      box-shadow: 0px 1px 3px 1px rgba(0, 0, 0, 0.15);\n",
              "      filter: drop-shadow(0px 1px 2px rgba(0, 0, 0, 0.3));\n",
              "      fill: #FFFFFF;\n",
              "    }\n",
              "  </style>\n",
              "\n",
              "      <script>\n",
              "        const buttonEl =\n",
              "          document.querySelector('#df-aa64e37c-a347-4432-9728-8b6bd7b5e095 button.colab-df-convert');\n",
              "        buttonEl.style.display =\n",
              "          google.colab.kernel.accessAllowed ? 'block' : 'none';\n",
              "\n",
              "        async function convertToInteractive(key) {\n",
              "          const element = document.querySelector('#df-aa64e37c-a347-4432-9728-8b6bd7b5e095');\n",
              "          const dataTable =\n",
              "            await google.colab.kernel.invokeFunction('convertToInteractive',\n",
              "                                                     [key], {});\n",
              "          if (!dataTable) return;\n",
              "\n",
              "          const docLinkHtml = 'Like what you see? Visit the ' +\n",
              "            '<a target=\"_blank\" href=https://colab.research.google.com/notebooks/data_table.ipynb>data table notebook</a>'\n",
              "            + ' to learn more about interactive tables.';\n",
              "          element.innerHTML = '';\n",
              "          dataTable['output_type'] = 'display_data';\n",
              "          await google.colab.output.renderOutput(dataTable, element);\n",
              "          const docLink = document.createElement('div');\n",
              "          docLink.innerHTML = docLinkHtml;\n",
              "          element.appendChild(docLink);\n",
              "        }\n",
              "      </script>\n",
              "    </div>\n",
              "  </div>\n",
              "  "
            ]
          },
          "metadata": {},
          "execution_count": 97
        }
      ]
    },
    {
      "cell_type": "code",
      "execution_count": null,
      "metadata": {
        "scrolled": true,
        "id": "iLKNH4NDAWBp",
        "outputId": "db5b177b-5ee2-44f2-a00d-ec1dee455a4d"
      },
      "outputs": [
        {
          "data": {
            "text/html": [
              "<div>\n",
              "<style>\n",
              "    .dataframe thead tr:only-child th {\n",
              "        text-align: right;\n",
              "    }\n",
              "\n",
              "    .dataframe thead th {\n",
              "        text-align: left;\n",
              "    }\n",
              "\n",
              "    .dataframe tbody tr th {\n",
              "        vertical-align: top;\n",
              "    }\n",
              "</style>\n",
              "<table border=\"1\" class=\"dataframe\">\n",
              "  <thead>\n",
              "    <tr style=\"text-align: right;\">\n",
              "      <th></th>\n",
              "      <th>prefix</th>\n",
              "      <th>first</th>\n",
              "      <th>last</th>\n",
              "      <th>email</th>\n",
              "      <th>gender</th>\n",
              "      <th>age</th>\n",
              "      <th>company</th>\n",
              "      <th>profession</th>\n",
              "      <th>phone</th>\n",
              "      <th>postal</th>\n",
              "      <th>province</th>\n",
              "      <th>cc_no</th>\n",
              "      <th>cc_exp</th>\n",
              "      <th>cc_type</th>\n",
              "      <th>price(CAD)</th>\n",
              "      <th>fav_color</th>\n",
              "      <th>ip</th>\n",
              "      <th>weekday</th>\n",
              "      <th>ampm</th>\n",
              "      <th>date</th>\n",
              "    </tr>\n",
              "  </thead>\n",
              "  <tbody>\n",
              "    <tr>\n",
              "      <th>76</th>\n",
              "      <td>Mrs.</td>\n",
              "      <td>Gregory</td>\n",
              "      <td>Brown</td>\n",
              "      <td>hav@jek.gs</td>\n",
              "      <td>Female</td>\n",
              "      <td>31</td>\n",
              "      <td>E*Trade Group, Inc.</td>\n",
              "      <td>Novelist</td>\n",
              "      <td>(625) 537-8923</td>\n",
              "      <td>X3S 4Q2</td>\n",
              "      <td>PE</td>\n",
              "      <td>6010000000000000</td>\n",
              "      <td>04/2018</td>\n",
              "      <td>Visa</td>\n",
              "      <td>100.0</td>\n",
              "      <td>Green</td>\n",
              "      <td>212.100.18.95</td>\n",
              "      <td>Monday</td>\n",
              "      <td>am</td>\n",
              "      <td>10/23/2063</td>\n",
              "    </tr>\n",
              "    <tr>\n",
              "      <th>21093</th>\n",
              "      <td>Mrs.</td>\n",
              "      <td>Cody</td>\n",
              "      <td>Christensen</td>\n",
              "      <td>get@jovu.ag</td>\n",
              "      <td>Male</td>\n",
              "      <td>28</td>\n",
              "      <td>National City Corp.</td>\n",
              "      <td>Hospital Administrator</td>\n",
              "      <td>(261) 737-3292</td>\n",
              "      <td>X0S 1O5</td>\n",
              "      <td>PE</td>\n",
              "      <td>201000000000000</td>\n",
              "      <td>03/2024</td>\n",
              "      <td>JCB</td>\n",
              "      <td>100.0</td>\n",
              "      <td>Green</td>\n",
              "      <td>168.48.19.165</td>\n",
              "      <td>Wednesday</td>\n",
              "      <td>pm</td>\n",
              "      <td>03/28/1955</td>\n",
              "    </tr>\n",
              "    <tr>\n",
              "      <th>24385</th>\n",
              "      <td>Miss</td>\n",
              "      <td>Lizzie</td>\n",
              "      <td>Dixon</td>\n",
              "      <td>goh@tuwjaz.gd</td>\n",
              "      <td>Female</td>\n",
              "      <td>38</td>\n",
              "      <td>FleetBoston Financial Co.</td>\n",
              "      <td>Compensation Analyst</td>\n",
              "      <td>(989) 239-1752</td>\n",
              "      <td>V8X 9V6</td>\n",
              "      <td>NB</td>\n",
              "      <td>6300000000000000</td>\n",
              "      <td>07/2019</td>\n",
              "      <td>Bankcard</td>\n",
              "      <td>100.0</td>\n",
              "      <td>Blue</td>\n",
              "      <td>140.87.99.78</td>\n",
              "      <td>Saturday</td>\n",
              "      <td>pm</td>\n",
              "      <td>03/03/1983</td>\n",
              "    </tr>\n",
              "  </tbody>\n",
              "</table>\n",
              "</div>"
            ],
            "text/plain": [
              "      prefix    first         last          email  gender  age  \\\n",
              "76      Mrs.  Gregory        Brown     hav@jek.gs  Female   31   \n",
              "21093   Mrs.     Cody  Christensen    get@jovu.ag    Male   28   \n",
              "24385   Miss   Lizzie        Dixon  goh@tuwjaz.gd  Female   38   \n",
              "\n",
              "                         company              profession           phone  \\\n",
              "76           E*Trade Group, Inc.                Novelist  (625) 537-8923   \n",
              "21093        National City Corp.  Hospital Administrator  (261) 737-3292   \n",
              "24385  FleetBoston Financial Co.    Compensation Analyst  (989) 239-1752   \n",
              "\n",
              "        postal province             cc_no   cc_exp   cc_type  price(CAD)  \\\n",
              "76     X3S 4Q2       PE  6010000000000000  04/2018      Visa       100.0   \n",
              "21093  X0S 1O5       PE   201000000000000  03/2024       JCB       100.0   \n",
              "24385  V8X 9V6       NB  6300000000000000  07/2019  Bankcard       100.0   \n",
              "\n",
              "      fav_color             ip    weekday ampm        date  \n",
              "76        Green  212.100.18.95     Monday   am  10/23/2063  \n",
              "21093     Green  168.48.19.165  Wednesday   pm  03/28/1955  \n",
              "24385      Blue   140.87.99.78   Saturday   pm  03/03/1983  "
            ]
          },
          "execution_count": 14,
          "metadata": {},
          "output_type": "execute_result"
        }
      ],
      "source": []
    },
    {
      "cell_type": "markdown",
      "metadata": {
        "collapsed": true,
        "id": "bQi1etm6AWBp"
      },
      "source": [
        "**13. How many emails are associated with this credit card number '5020000000000230'?**"
      ]
    },
    {
      "cell_type": "code",
      "execution_count": 110,
      "metadata": {
        "collapsed": true,
        "id": "R-48Xa6ZAWBq"
      },
      "outputs": [],
      "source": [
        "filtered_df = ecom[ecom['cc_no'] == '5020000000000230']\n",
        "# email_count = filtered_df['email']"
      ]
    },
    {
      "cell_type": "code",
      "source": [
        "email_count"
      ],
      "metadata": {
        "colab": {
          "base_uri": "https://localhost:8080/"
        },
        "id": "gYVx5psAewwq",
        "outputId": "9a1b2896-21be-4f61-fb82-25aa9667a2fc"
      },
      "execution_count": 111,
      "outputs": [
        {
          "output_type": "execute_result",
          "data": {
            "text/plain": [
              "Series([], Name: email, dtype: object)"
            ]
          },
          "metadata": {},
          "execution_count": 111
        }
      ]
    },
    {
      "cell_type": "code",
      "source": [
        "credit_card_number = '5020000000000230'\n",
        "\n",
        "# Filter the DataFrame for the specified credit card number\n",
        "filtered_df = ecom[ecom['cc_no'] == credit_card_number]\n",
        "\n",
        "# Get the unique emails associated with the credit card number\n",
        "unique_emails = filtered_df['email'].unique()\n",
        "\n",
        "# Count the number of unique emails\n",
        "email_count = len(unique_emails)\n",
        "\n",
        "print(\"Number of unique emails:\", email_count)\n",
        "print(unique_emails)"
      ],
      "metadata": {
        "colab": {
          "base_uri": "https://localhost:8080/"
        },
        "id": "jFQossoHfjou",
        "outputId": "3617f2c7-ddb1-47ee-ceb4-19a845372dd8"
      },
      "execution_count": 107,
      "outputs": [
        {
          "output_type": "stream",
          "name": "stdout",
          "text": [
            "Number of unique emails: 0\n",
            "[]\n"
          ]
        }
      ]
    },
    {
      "cell_type": "code",
      "source": [
        "crd = ecom[ecom['cc_no'] == '5020000000000230']"
      ],
      "metadata": {
        "id": "6BHYlm5GgM-J"
      },
      "execution_count": 115,
      "outputs": []
    },
    {
      "cell_type": "code",
      "source": [
        "ecom['cc_no'] == '5020000000000230'"
      ],
      "metadata": {
        "colab": {
          "base_uri": "https://localhost:8080/"
        },
        "id": "1xn6cNIWg6RP",
        "outputId": "c7d3a933-dbc7-4643-d4ea-bd037f15b0bc"
      },
      "execution_count": 116,
      "outputs": [
        {
          "output_type": "execute_result",
          "data": {
            "text/plain": [
              "0        False\n",
              "1        False\n",
              "2        False\n",
              "3        False\n",
              "4        False\n",
              "         ...  \n",
              "29995    False\n",
              "29996    False\n",
              "29997    False\n",
              "29998    False\n",
              "29999    False\n",
              "Name: cc_no, Length: 30000, dtype: bool"
            ]
          },
          "metadata": {},
          "execution_count": 116
        }
      ]
    },
    {
      "cell_type": "code",
      "execution_count": null,
      "metadata": {
        "id": "0A6zuU2YAWBz",
        "outputId": "cb514c0a-416f-46b3-bfd6-00bdf4785732"
      },
      "outputs": [
        {
          "data": {
            "text/plain": [
              "0    sebvajom@kol.km\n",
              "1      acu@jatsot.ug\n",
              "Name: email, dtype: object"
            ]
          },
          "execution_count": 15,
          "metadata": {},
          "output_type": "execute_result"
        }
      ],
      "source": []
    },
    {
      "cell_type": "markdown",
      "metadata": {
        "id": "-CBlkRMVAWB0"
      },
      "source": [
        "**14. We need to send new cards to the customers well before the expire, how many cards are expiring in 2019?**<br>\n",
        "*Use `sum()` and `count()` and see the difference in their use :)*"
      ]
    },
    {
      "cell_type": "code",
      "execution_count": 118,
      "metadata": {
        "collapsed": true,
        "colab": {
          "base_uri": "https://localhost:8080/"
        },
        "id": "vvRq4533AWB0",
        "outputId": "c56c45a4-5039-47ee-f585-9468b254e035"
      },
      "outputs": [
        {
          "output_type": "stream",
          "name": "stdout",
          "text": [
            "2684\n"
          ]
        }
      ],
      "source": [
        "\n",
        "expiring_19 = ecom[ecom['cc_exp'].str[-4:] == '2019']\n",
        "cards_expiring = expiring_19.shape[0]\n",
        "print(cards_expiring)"
      ]
    },
    {
      "cell_type": "code",
      "execution_count": null,
      "metadata": {
        "id": "JmafqMtCAWB0",
        "outputId": "03faf1b7-bc74-4ed9-a9dc-3f369bd80d06"
      },
      "outputs": [
        {
          "data": {
            "text/plain": [
              "2684"
            ]
          },
          "execution_count": 16,
          "metadata": {},
          "output_type": "execute_result"
        }
      ],
      "source": [
        "#cust[cust['cc_exp'].apply(lambda x: x[5:]) == '19'].count()\n"
      ]
    },
    {
      "cell_type": "markdown",
      "metadata": {
        "collapsed": true,
        "id": "CqbcyjOUAWB1"
      },
      "source": [
        "**15. How many people use Visa as their Credit Card Provider?**"
      ]
    },
    {
      "cell_type": "code",
      "execution_count": 123,
      "metadata": {
        "collapsed": true,
        "colab": {
          "base_uri": "https://localhost:8080/"
        },
        "id": "LUCQYUipAWB1",
        "outputId": "7e2bf374-0a1c-43f5-dfd7-d6a4740447c1"
      },
      "outputs": [
        {
          "output_type": "stream",
          "name": "stdout",
          "text": [
            "1721\n"
          ]
        }
      ],
      "source": [
        "# Code here please\n",
        "visa_users = ecom[ecom['cc_type'] == 'Visa']\n",
        "visa_user_count = visa_users.shape[0]\n",
        "print(visa_user_count)"
      ]
    },
    {
      "cell_type": "code",
      "execution_count": null,
      "metadata": {
        "id": "5Kt-98hlAWB2",
        "outputId": "6c7a8dcf-4e53-4aed-ba90-9c61170287d3"
      },
      "outputs": [
        {
          "data": {
            "text/plain": [
              "1721"
            ]
          },
          "execution_count": 17,
          "metadata": {},
          "output_type": "execute_result"
        }
      ],
      "source": []
    },
    {
      "cell_type": "markdown",
      "metadata": {
        "collapsed": true,
        "id": "VjnI9olTAWB2"
      },
      "source": [
        "**16. Can you find the customer who spent 100 CAD using Visa?**"
      ]
    },
    {
      "cell_type": "code",
      "execution_count": 126,
      "metadata": {
        "collapsed": true,
        "id": "G81iBFe_AWB2"
      },
      "outputs": [],
      "source": [
        "# Code here please\n",
        "customer = ecom[(ecom['cc_type'] == 'Visa') & (ecom['price(CAD)'] == 100.0)]\n",
        "\n"
      ]
    },
    {
      "cell_type": "code",
      "source": [
        "customer"
      ],
      "metadata": {
        "colab": {
          "base_uri": "https://localhost:8080/",
          "height": 179
        },
        "id": "fK6G5r9a4zrO",
        "outputId": "12d15d29-18c8-42b7-df1a-23f9e3f2859c"
      },
      "execution_count": 127,
      "outputs": [
        {
          "output_type": "execute_result",
          "data": {
            "text/plain": [
              "   prefix    first   last       email  gender  age              company  \\\n",
              "76   Mrs.  Gregory  Brown  hav@jek.gs  Female   31  E*Trade Group, Inc.   \n",
              "\n",
              "   profession           phone   postal province             cc_no   cc_exp  \\\n",
              "76   Novelist  (625) 537-8923  X3S 4Q2       PE  6010000000000000  04/2018   \n",
              "\n",
              "   cc_type  price(CAD) fav_color             ip weekday ampm        date  \n",
              "76    Visa       100.0     Green  212.100.18.95  Monday   am  10/23/2063  "
            ],
            "text/html": [
              "\n",
              "  <div id=\"df-1ef25150-30ab-4feb-b46a-814f182aa599\">\n",
              "    <div class=\"colab-df-container\">\n",
              "      <div>\n",
              "<style scoped>\n",
              "    .dataframe tbody tr th:only-of-type {\n",
              "        vertical-align: middle;\n",
              "    }\n",
              "\n",
              "    .dataframe tbody tr th {\n",
              "        vertical-align: top;\n",
              "    }\n",
              "\n",
              "    .dataframe thead th {\n",
              "        text-align: right;\n",
              "    }\n",
              "</style>\n",
              "<table border=\"1\" class=\"dataframe\">\n",
              "  <thead>\n",
              "    <tr style=\"text-align: right;\">\n",
              "      <th></th>\n",
              "      <th>prefix</th>\n",
              "      <th>first</th>\n",
              "      <th>last</th>\n",
              "      <th>email</th>\n",
              "      <th>gender</th>\n",
              "      <th>age</th>\n",
              "      <th>company</th>\n",
              "      <th>profession</th>\n",
              "      <th>phone</th>\n",
              "      <th>postal</th>\n",
              "      <th>province</th>\n",
              "      <th>cc_no</th>\n",
              "      <th>cc_exp</th>\n",
              "      <th>cc_type</th>\n",
              "      <th>price(CAD)</th>\n",
              "      <th>fav_color</th>\n",
              "      <th>ip</th>\n",
              "      <th>weekday</th>\n",
              "      <th>ampm</th>\n",
              "      <th>date</th>\n",
              "    </tr>\n",
              "  </thead>\n",
              "  <tbody>\n",
              "    <tr>\n",
              "      <th>76</th>\n",
              "      <td>Mrs.</td>\n",
              "      <td>Gregory</td>\n",
              "      <td>Brown</td>\n",
              "      <td>hav@jek.gs</td>\n",
              "      <td>Female</td>\n",
              "      <td>31</td>\n",
              "      <td>E*Trade Group, Inc.</td>\n",
              "      <td>Novelist</td>\n",
              "      <td>(625) 537-8923</td>\n",
              "      <td>X3S 4Q2</td>\n",
              "      <td>PE</td>\n",
              "      <td>6010000000000000</td>\n",
              "      <td>04/2018</td>\n",
              "      <td>Visa</td>\n",
              "      <td>100.0</td>\n",
              "      <td>Green</td>\n",
              "      <td>212.100.18.95</td>\n",
              "      <td>Monday</td>\n",
              "      <td>am</td>\n",
              "      <td>10/23/2063</td>\n",
              "    </tr>\n",
              "  </tbody>\n",
              "</table>\n",
              "</div>\n",
              "      <button class=\"colab-df-convert\" onclick=\"convertToInteractive('df-1ef25150-30ab-4feb-b46a-814f182aa599')\"\n",
              "              title=\"Convert this dataframe to an interactive table.\"\n",
              "              style=\"display:none;\">\n",
              "        \n",
              "  <svg xmlns=\"http://www.w3.org/2000/svg\" height=\"24px\"viewBox=\"0 0 24 24\"\n",
              "       width=\"24px\">\n",
              "    <path d=\"M0 0h24v24H0V0z\" fill=\"none\"/>\n",
              "    <path d=\"M18.56 5.44l.94 2.06.94-2.06 2.06-.94-2.06-.94-.94-2.06-.94 2.06-2.06.94zm-11 1L8.5 8.5l.94-2.06 2.06-.94-2.06-.94L8.5 2.5l-.94 2.06-2.06.94zm10 10l.94 2.06.94-2.06 2.06-.94-2.06-.94-.94-2.06-.94 2.06-2.06.94z\"/><path d=\"M17.41 7.96l-1.37-1.37c-.4-.4-.92-.59-1.43-.59-.52 0-1.04.2-1.43.59L10.3 9.45l-7.72 7.72c-.78.78-.78 2.05 0 2.83L4 21.41c.39.39.9.59 1.41.59.51 0 1.02-.2 1.41-.59l7.78-7.78 2.81-2.81c.8-.78.8-2.07 0-2.86zM5.41 20L4 18.59l7.72-7.72 1.47 1.35L5.41 20z\"/>\n",
              "  </svg>\n",
              "      </button>\n",
              "      \n",
              "  <style>\n",
              "    .colab-df-container {\n",
              "      display:flex;\n",
              "      flex-wrap:wrap;\n",
              "      gap: 12px;\n",
              "    }\n",
              "\n",
              "    .colab-df-convert {\n",
              "      background-color: #E8F0FE;\n",
              "      border: none;\n",
              "      border-radius: 50%;\n",
              "      cursor: pointer;\n",
              "      display: none;\n",
              "      fill: #1967D2;\n",
              "      height: 32px;\n",
              "      padding: 0 0 0 0;\n",
              "      width: 32px;\n",
              "    }\n",
              "\n",
              "    .colab-df-convert:hover {\n",
              "      background-color: #E2EBFA;\n",
              "      box-shadow: 0px 1px 2px rgba(60, 64, 67, 0.3), 0px 1px 3px 1px rgba(60, 64, 67, 0.15);\n",
              "      fill: #174EA6;\n",
              "    }\n",
              "\n",
              "    [theme=dark] .colab-df-convert {\n",
              "      background-color: #3B4455;\n",
              "      fill: #D2E3FC;\n",
              "    }\n",
              "\n",
              "    [theme=dark] .colab-df-convert:hover {\n",
              "      background-color: #434B5C;\n",
              "      box-shadow: 0px 1px 3px 1px rgba(0, 0, 0, 0.15);\n",
              "      filter: drop-shadow(0px 1px 2px rgba(0, 0, 0, 0.3));\n",
              "      fill: #FFFFFF;\n",
              "    }\n",
              "  </style>\n",
              "\n",
              "      <script>\n",
              "        const buttonEl =\n",
              "          document.querySelector('#df-1ef25150-30ab-4feb-b46a-814f182aa599 button.colab-df-convert');\n",
              "        buttonEl.style.display =\n",
              "          google.colab.kernel.accessAllowed ? 'block' : 'none';\n",
              "\n",
              "        async function convertToInteractive(key) {\n",
              "          const element = document.querySelector('#df-1ef25150-30ab-4feb-b46a-814f182aa599');\n",
              "          const dataTable =\n",
              "            await google.colab.kernel.invokeFunction('convertToInteractive',\n",
              "                                                     [key], {});\n",
              "          if (!dataTable) return;\n",
              "\n",
              "          const docLinkHtml = 'Like what you see? Visit the ' +\n",
              "            '<a target=\"_blank\" href=https://colab.research.google.com/notebooks/data_table.ipynb>data table notebook</a>'\n",
              "            + ' to learn more about interactive tables.';\n",
              "          element.innerHTML = '';\n",
              "          dataTable['output_type'] = 'display_data';\n",
              "          await google.colab.output.renderOutput(dataTable, element);\n",
              "          const docLink = document.createElement('div');\n",
              "          docLink.innerHTML = docLinkHtml;\n",
              "          element.appendChild(docLink);\n",
              "        }\n",
              "      </script>\n",
              "    </div>\n",
              "  </div>\n",
              "  "
            ]
          },
          "metadata": {},
          "execution_count": 127
        }
      ]
    },
    {
      "cell_type": "code",
      "execution_count": null,
      "metadata": {
        "id": "iryS752QAWB2",
        "outputId": "f86169f8-3cac-44da-a3c3-3d744bb6ea91"
      },
      "outputs": [
        {
          "data": {
            "text/html": [
              "<div>\n",
              "<style>\n",
              "    .dataframe thead tr:only-child th {\n",
              "        text-align: right;\n",
              "    }\n",
              "\n",
              "    .dataframe thead th {\n",
              "        text-align: left;\n",
              "    }\n",
              "\n",
              "    .dataframe tbody tr th {\n",
              "        vertical-align: top;\n",
              "    }\n",
              "</style>\n",
              "<table border=\"1\" class=\"dataframe\">\n",
              "  <thead>\n",
              "    <tr style=\"text-align: right;\">\n",
              "      <th></th>\n",
              "      <th>prefix</th>\n",
              "      <th>first</th>\n",
              "      <th>last</th>\n",
              "      <th>email</th>\n",
              "      <th>gender</th>\n",
              "      <th>age</th>\n",
              "      <th>company</th>\n",
              "      <th>profession</th>\n",
              "      <th>phone</th>\n",
              "      <th>postal</th>\n",
              "      <th>province</th>\n",
              "      <th>cc_no</th>\n",
              "      <th>cc_exp</th>\n",
              "      <th>cc_type</th>\n",
              "      <th>price(CAD)</th>\n",
              "      <th>fav_color</th>\n",
              "      <th>ip</th>\n",
              "      <th>weekday</th>\n",
              "      <th>ampm</th>\n",
              "      <th>date</th>\n",
              "    </tr>\n",
              "  </thead>\n",
              "  <tbody>\n",
              "    <tr>\n",
              "      <th>76</th>\n",
              "      <td>Mrs.</td>\n",
              "      <td>Gregory</td>\n",
              "      <td>Brown</td>\n",
              "      <td>hav@jek.gs</td>\n",
              "      <td>Female</td>\n",
              "      <td>31</td>\n",
              "      <td>E*Trade Group, Inc.</td>\n",
              "      <td>Novelist</td>\n",
              "      <td>(625) 537-8923</td>\n",
              "      <td>X3S 4Q2</td>\n",
              "      <td>PE</td>\n",
              "      <td>6010000000000000</td>\n",
              "      <td>04/2018</td>\n",
              "      <td>Visa</td>\n",
              "      <td>100.0</td>\n",
              "      <td>Green</td>\n",
              "      <td>212.100.18.95</td>\n",
              "      <td>Monday</td>\n",
              "      <td>am</td>\n",
              "      <td>10/23/2063</td>\n",
              "    </tr>\n",
              "  </tbody>\n",
              "</table>\n",
              "</div>"
            ],
            "text/plain": [
              "   prefix    first   last       email  gender  age              company  \\\n",
              "76   Mrs.  Gregory  Brown  hav@jek.gs  Female   31  E*Trade Group, Inc.   \n",
              "\n",
              "   profession           phone   postal province             cc_no   cc_exp  \\\n",
              "76   Novelist  (625) 537-8923  X3S 4Q2       PE  6010000000000000  04/2018   \n",
              "\n",
              "   cc_type  price(CAD) fav_color             ip weekday ampm        date  \n",
              "76    Visa       100.0     Green  212.100.18.95  Monday   am  10/23/2063  "
            ]
          },
          "execution_count": 18,
          "metadata": {},
          "output_type": "execute_result"
        }
      ],
      "source": []
    },
    {
      "cell_type": "markdown",
      "metadata": {
        "id": "sLL8OnQNAWB3"
      },
      "source": [
        "**17. What are two most common professions?**"
      ]
    },
    {
      "cell_type": "code",
      "execution_count": 129,
      "metadata": {
        "collapsed": true,
        "id": "2u5SfkRKAWB3"
      },
      "outputs": [],
      "source": [
        "# Code here please\n",
        "top_two_prof = ecom['profession'].value_counts().nlargest(2)"
      ]
    },
    {
      "cell_type": "code",
      "source": [
        "top_two_prof"
      ],
      "metadata": {
        "colab": {
          "base_uri": "https://localhost:8080/"
        },
        "id": "TiShi9a45BuL",
        "outputId": "3969ae6b-6ad4-4758-d699-48b217b8e215"
      },
      "execution_count": 130,
      "outputs": [
        {
          "output_type": "execute_result",
          "data": {
            "text/plain": [
              "Preschool Teacher       112\n",
              "Distribution Manager    107\n",
              "Name: profession, dtype: int64"
            ]
          },
          "metadata": {},
          "execution_count": 130
        }
      ]
    },
    {
      "cell_type": "code",
      "execution_count": null,
      "metadata": {
        "id": "V2lvUIRCAWB3",
        "outputId": "fd70d3ab-c54f-4436-a324-21600201eed5"
      },
      "outputs": [
        {
          "data": {
            "text/plain": [
              "Preschool Teacher       112\n",
              "Distribution Manager    107\n",
              "Name: profession, dtype: int64"
            ]
          },
          "execution_count": 19,
          "metadata": {},
          "output_type": "execute_result"
        }
      ],
      "source": []
    },
    {
      "cell_type": "markdown",
      "metadata": {
        "collapsed": true,
        "id": "2U4X9ygTAWB3"
      },
      "source": [
        "**18. Can you tell the top 5 most popular email providers? (e.g. gmail.com, yahoo.com, etc...)**"
      ]
    },
    {
      "cell_type": "code",
      "execution_count": 131,
      "metadata": {
        "collapsed": true,
        "colab": {
          "base_uri": "https://localhost:8080/"
        },
        "id": "g-mob1uxAWB4",
        "outputId": "9f49acc0-942c-4a25-ba2a-39b2ecf23bf6"
      },
      "outputs": [
        {
          "output_type": "stream",
          "name": "stdout",
          "text": [
            "gmail.com      1687\n",
            "me.com         1676\n",
            "outlook.com    1664\n",
            "live.com       1660\n",
            "hotmail.com    1659\n",
            "Name: email_domain, dtype: int64\n"
          ]
        }
      ],
      "source": [
        "# Code here please\n",
        "ecom['email_domain'] = ecom['email'].str.split('@').str[-1]\n",
        "email_provider_counts = ecom['email_domain'].value_counts().head(5)\n",
        "\n",
        "print(email_provider_counts)"
      ]
    },
    {
      "cell_type": "code",
      "execution_count": null,
      "metadata": {
        "id": "NDs5KWwfAWB4",
        "outputId": "ceccb368-6eda-4194-c0d2-ba7409ef6d57"
      },
      "outputs": [
        {
          "data": {
            "text/plain": [
              "gmail.com      1687\n",
              "me.com         1676\n",
              "outlook.com    1664\n",
              "live.com       1660\n",
              "hotmail.com    1659\n",
              "Name: email, dtype: int64"
            ]
          },
          "execution_count": 20,
          "metadata": {},
          "output_type": "execute_result"
        }
      ],
      "source": []
    },
    {
      "cell_type": "markdown",
      "metadata": {
        "collapsed": true,
        "id": "YzjCKaQdAWB5"
      },
      "source": [
        "**19. Is there any customer who is using email with \"am.edu\"?**<br>\n",
        "Hint: Use `lambda` expression in `apply()`. split the email address at `@`.  "
      ]
    },
    {
      "cell_type": "code",
      "execution_count": 140,
      "metadata": {
        "collapsed": true,
        "id": "Jy4DrjH2AWB5"
      },
      "outputs": [],
      "source": [
        "# Code here please\n",
        "has_am_edu_email = ecom[ecom['email'].apply(lambda x: x.split('@')[1] == 'am.edu')]\n"
      ]
    },
    {
      "cell_type": "code",
      "source": [
        "has_am_edu_email"
      ],
      "metadata": {
        "colab": {
          "base_uri": "https://localhost:8080/",
          "height": 243
        },
        "id": "xedRTFd26dpp",
        "outputId": "45c51a01-d581-4ece-dbf1-309f3633dc33"
      },
      "execution_count": 142,
      "outputs": [
        {
          "output_type": "execute_result",
          "data": {
            "text/plain": [
              "    prefix    first      last         email  gender  age  \\\n",
              "150   Miss  Loretta  Fletcher  barit@am.edu  Female   48   \n",
              "\n",
              "                     company                profession           phone  \\\n",
              "150  York International Corp  Rehabilitation Counselor  (323) 279-8038   \n",
              "\n",
              "      postal  ...             cc_no   cc_exp  \\\n",
              "150  E5X 8L0  ...  6330000000000000  05/2021   \n",
              "\n",
              "                                cc_type price(CAD)  fav_color              ip  \\\n",
              "150  Diners Club United States & Canada      97.26      White  147.57.240.225   \n",
              "\n",
              "    weekday ampm        date email_domain  \n",
              "150  Monday   am  11/07/2066       am.edu  \n",
              "\n",
              "[1 rows x 21 columns]"
            ],
            "text/html": [
              "\n",
              "  <div id=\"df-3b3e9f13-3ea0-43d7-984b-22e7abb08106\">\n",
              "    <div class=\"colab-df-container\">\n",
              "      <div>\n",
              "<style scoped>\n",
              "    .dataframe tbody tr th:only-of-type {\n",
              "        vertical-align: middle;\n",
              "    }\n",
              "\n",
              "    .dataframe tbody tr th {\n",
              "        vertical-align: top;\n",
              "    }\n",
              "\n",
              "    .dataframe thead th {\n",
              "        text-align: right;\n",
              "    }\n",
              "</style>\n",
              "<table border=\"1\" class=\"dataframe\">\n",
              "  <thead>\n",
              "    <tr style=\"text-align: right;\">\n",
              "      <th></th>\n",
              "      <th>prefix</th>\n",
              "      <th>first</th>\n",
              "      <th>last</th>\n",
              "      <th>email</th>\n",
              "      <th>gender</th>\n",
              "      <th>age</th>\n",
              "      <th>company</th>\n",
              "      <th>profession</th>\n",
              "      <th>phone</th>\n",
              "      <th>postal</th>\n",
              "      <th>...</th>\n",
              "      <th>cc_no</th>\n",
              "      <th>cc_exp</th>\n",
              "      <th>cc_type</th>\n",
              "      <th>price(CAD)</th>\n",
              "      <th>fav_color</th>\n",
              "      <th>ip</th>\n",
              "      <th>weekday</th>\n",
              "      <th>ampm</th>\n",
              "      <th>date</th>\n",
              "      <th>email_domain</th>\n",
              "    </tr>\n",
              "  </thead>\n",
              "  <tbody>\n",
              "    <tr>\n",
              "      <th>150</th>\n",
              "      <td>Miss</td>\n",
              "      <td>Loretta</td>\n",
              "      <td>Fletcher</td>\n",
              "      <td>barit@am.edu</td>\n",
              "      <td>Female</td>\n",
              "      <td>48</td>\n",
              "      <td>York International Corp</td>\n",
              "      <td>Rehabilitation Counselor</td>\n",
              "      <td>(323) 279-8038</td>\n",
              "      <td>E5X 8L0</td>\n",
              "      <td>...</td>\n",
              "      <td>6330000000000000</td>\n",
              "      <td>05/2021</td>\n",
              "      <td>Diners Club United States &amp; Canada</td>\n",
              "      <td>97.26</td>\n",
              "      <td>White</td>\n",
              "      <td>147.57.240.225</td>\n",
              "      <td>Monday</td>\n",
              "      <td>am</td>\n",
              "      <td>11/07/2066</td>\n",
              "      <td>am.edu</td>\n",
              "    </tr>\n",
              "  </tbody>\n",
              "</table>\n",
              "<p>1 rows × 21 columns</p>\n",
              "</div>\n",
              "      <button class=\"colab-df-convert\" onclick=\"convertToInteractive('df-3b3e9f13-3ea0-43d7-984b-22e7abb08106')\"\n",
              "              title=\"Convert this dataframe to an interactive table.\"\n",
              "              style=\"display:none;\">\n",
              "        \n",
              "  <svg xmlns=\"http://www.w3.org/2000/svg\" height=\"24px\"viewBox=\"0 0 24 24\"\n",
              "       width=\"24px\">\n",
              "    <path d=\"M0 0h24v24H0V0z\" fill=\"none\"/>\n",
              "    <path d=\"M18.56 5.44l.94 2.06.94-2.06 2.06-.94-2.06-.94-.94-2.06-.94 2.06-2.06.94zm-11 1L8.5 8.5l.94-2.06 2.06-.94-2.06-.94L8.5 2.5l-.94 2.06-2.06.94zm10 10l.94 2.06.94-2.06 2.06-.94-2.06-.94-.94-2.06-.94 2.06-2.06.94z\"/><path d=\"M17.41 7.96l-1.37-1.37c-.4-.4-.92-.59-1.43-.59-.52 0-1.04.2-1.43.59L10.3 9.45l-7.72 7.72c-.78.78-.78 2.05 0 2.83L4 21.41c.39.39.9.59 1.41.59.51 0 1.02-.2 1.41-.59l7.78-7.78 2.81-2.81c.8-.78.8-2.07 0-2.86zM5.41 20L4 18.59l7.72-7.72 1.47 1.35L5.41 20z\"/>\n",
              "  </svg>\n",
              "      </button>\n",
              "      \n",
              "  <style>\n",
              "    .colab-df-container {\n",
              "      display:flex;\n",
              "      flex-wrap:wrap;\n",
              "      gap: 12px;\n",
              "    }\n",
              "\n",
              "    .colab-df-convert {\n",
              "      background-color: #E8F0FE;\n",
              "      border: none;\n",
              "      border-radius: 50%;\n",
              "      cursor: pointer;\n",
              "      display: none;\n",
              "      fill: #1967D2;\n",
              "      height: 32px;\n",
              "      padding: 0 0 0 0;\n",
              "      width: 32px;\n",
              "    }\n",
              "\n",
              "    .colab-df-convert:hover {\n",
              "      background-color: #E2EBFA;\n",
              "      box-shadow: 0px 1px 2px rgba(60, 64, 67, 0.3), 0px 1px 3px 1px rgba(60, 64, 67, 0.15);\n",
              "      fill: #174EA6;\n",
              "    }\n",
              "\n",
              "    [theme=dark] .colab-df-convert {\n",
              "      background-color: #3B4455;\n",
              "      fill: #D2E3FC;\n",
              "    }\n",
              "\n",
              "    [theme=dark] .colab-df-convert:hover {\n",
              "      background-color: #434B5C;\n",
              "      box-shadow: 0px 1px 3px 1px rgba(0, 0, 0, 0.15);\n",
              "      filter: drop-shadow(0px 1px 2px rgba(0, 0, 0, 0.3));\n",
              "      fill: #FFFFFF;\n",
              "    }\n",
              "  </style>\n",
              "\n",
              "      <script>\n",
              "        const buttonEl =\n",
              "          document.querySelector('#df-3b3e9f13-3ea0-43d7-984b-22e7abb08106 button.colab-df-convert');\n",
              "        buttonEl.style.display =\n",
              "          google.colab.kernel.accessAllowed ? 'block' : 'none';\n",
              "\n",
              "        async function convertToInteractive(key) {\n",
              "          const element = document.querySelector('#df-3b3e9f13-3ea0-43d7-984b-22e7abb08106');\n",
              "          const dataTable =\n",
              "            await google.colab.kernel.invokeFunction('convertToInteractive',\n",
              "                                                     [key], {});\n",
              "          if (!dataTable) return;\n",
              "\n",
              "          const docLinkHtml = 'Like what you see? Visit the ' +\n",
              "            '<a target=\"_blank\" href=https://colab.research.google.com/notebooks/data_table.ipynb>data table notebook</a>'\n",
              "            + ' to learn more about interactive tables.';\n",
              "          element.innerHTML = '';\n",
              "          dataTable['output_type'] = 'display_data';\n",
              "          await google.colab.output.renderOutput(dataTable, element);\n",
              "          const docLink = document.createElement('div');\n",
              "          docLink.innerHTML = docLinkHtml;\n",
              "          element.appendChild(docLink);\n",
              "        }\n",
              "      </script>\n",
              "    </div>\n",
              "  </div>\n",
              "  "
            ]
          },
          "metadata": {},
          "execution_count": 142
        }
      ]
    },
    {
      "cell_type": "code",
      "execution_count": null,
      "metadata": {
        "id": "QOcurAKEAWB5",
        "outputId": "e10139ac-71ad-4a11-c099-e7d9dc7d9b60"
      },
      "outputs": [
        {
          "data": {
            "text/html": [
              "<div>\n",
              "<style>\n",
              "    .dataframe thead tr:only-child th {\n",
              "        text-align: right;\n",
              "    }\n",
              "\n",
              "    .dataframe thead th {\n",
              "        text-align: left;\n",
              "    }\n",
              "\n",
              "    .dataframe tbody tr th {\n",
              "        vertical-align: top;\n",
              "    }\n",
              "</style>\n",
              "<table border=\"1\" class=\"dataframe\">\n",
              "  <thead>\n",
              "    <tr style=\"text-align: right;\">\n",
              "      <th></th>\n",
              "      <th>prefix</th>\n",
              "      <th>first</th>\n",
              "      <th>last</th>\n",
              "      <th>email</th>\n",
              "      <th>gender</th>\n",
              "      <th>age</th>\n",
              "      <th>company</th>\n",
              "      <th>profession</th>\n",
              "      <th>phone</th>\n",
              "      <th>postal</th>\n",
              "      <th>province</th>\n",
              "      <th>cc_no</th>\n",
              "      <th>cc_exp</th>\n",
              "      <th>cc_type</th>\n",
              "      <th>price(CAD)</th>\n",
              "      <th>fav_color</th>\n",
              "      <th>ip</th>\n",
              "      <th>weekday</th>\n",
              "      <th>ampm</th>\n",
              "      <th>date</th>\n",
              "    </tr>\n",
              "  </thead>\n",
              "  <tbody>\n",
              "    <tr>\n",
              "      <th>150</th>\n",
              "      <td>Miss</td>\n",
              "      <td>Loretta</td>\n",
              "      <td>Fletcher</td>\n",
              "      <td>barit@am.edu</td>\n",
              "      <td>Female</td>\n",
              "      <td>48</td>\n",
              "      <td>York International Corp</td>\n",
              "      <td>Rehabilitation Counselor</td>\n",
              "      <td>(323) 279-8038</td>\n",
              "      <td>E5X 8L0</td>\n",
              "      <td>QC</td>\n",
              "      <td>6330000000000000</td>\n",
              "      <td>05/2021</td>\n",
              "      <td>Diners Club United States &amp; Canada</td>\n",
              "      <td>97.26</td>\n",
              "      <td>White</td>\n",
              "      <td>147.57.240.225</td>\n",
              "      <td>Monday</td>\n",
              "      <td>am</td>\n",
              "      <td>11/07/2066</td>\n",
              "    </tr>\n",
              "  </tbody>\n",
              "</table>\n",
              "</div>"
            ],
            "text/plain": [
              "    prefix    first      last         email  gender  age  \\\n",
              "150   Miss  Loretta  Fletcher  barit@am.edu  Female   48   \n",
              "\n",
              "                     company                profession           phone  \\\n",
              "150  York International Corp  Rehabilitation Counselor  (323) 279-8038   \n",
              "\n",
              "      postal province             cc_no   cc_exp  \\\n",
              "150  E5X 8L0       QC  6330000000000000  05/2021   \n",
              "\n",
              "                                cc_type  price(CAD) fav_color              ip  \\\n",
              "150  Diners Club United States & Canada       97.26     White  147.57.240.225   \n",
              "\n",
              "    weekday ampm        date  \n",
              "150  Monday   am  11/07/2066  "
            ]
          },
          "execution_count": 21,
          "metadata": {},
          "output_type": "execute_result"
        }
      ],
      "source": []
    },
    {
      "cell_type": "markdown",
      "metadata": {
        "collapsed": true,
        "id": "XUhXw9SmAWB6"
      },
      "source": [
        "**20. Which day of the week, the store gets more customers?**"
      ]
    },
    {
      "cell_type": "code",
      "execution_count": 152,
      "metadata": {
        "collapsed": true,
        "colab": {
          "base_uri": "https://localhost:8080/"
        },
        "id": "KaizZXMYAWB6",
        "outputId": "478a6f44-375c-4e78-d3e5-b3c1f5fbd23c"
      },
      "outputs": [
        {
          "output_type": "execute_result",
          "data": {
            "text/plain": [
              "Saturday     4376\n",
              "Wednesday    4365\n",
              "Thursday     4327\n",
              "Friday       4316\n",
              "Monday       4216\n",
              "Name: weekday, dtype: int64"
            ]
          },
          "metadata": {},
          "execution_count": 152
        }
      ],
      "source": [
        "# Code here please\n",
        "customer_counts = ecom['weekday'].value_counts().head()\n",
        "customer_counts"
      ]
    },
    {
      "cell_type": "code",
      "execution_count": null,
      "metadata": {
        "id": "xe7QEY2xAWB6",
        "outputId": "674ee82d-1be6-42f5-afb0-3334d1bd33c4"
      },
      "outputs": [
        {
          "data": {
            "text/plain": [
              "Saturday     4376\n",
              "Wednesday    4365\n",
              "Thursday     4327\n",
              "Friday       4316\n",
              "Monday       4216\n",
              "Name: weekday, dtype: int64"
            ]
          },
          "execution_count": 22,
          "metadata": {},
          "output_type": "execute_result"
        }
      ],
      "source": []
    },
    {
      "cell_type": "markdown",
      "metadata": {
        "id": "fMN0AwpHAWB6"
      },
      "source": [
        "# Excellent work!"
      ]
    }
  ],
  "metadata": {
    "kernelspec": {
      "display_name": "Python 3 (ipykernel)",
      "language": "python",
      "name": "python3"
    },
    "language_info": {
      "codemirror_mode": {
        "name": "ipython",
        "version": 3
      },
      "file_extension": ".py",
      "mimetype": "text/x-python",
      "name": "python",
      "nbconvert_exporter": "python",
      "pygments_lexer": "ipython3",
      "version": "3.10.4"
    },
    "colab": {
      "provenance": [],
      "include_colab_link": true
    }
  },
  "nbformat": 4,
  "nbformat_minor": 0
}